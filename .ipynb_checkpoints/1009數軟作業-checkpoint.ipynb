{
 "cells": [
  {
   "cell_type": "code",
   "execution_count": 7,
   "metadata": {},
   "outputs": [],
   "source": [
    "%matplotlib inline\n",
    "import numpy as np\n",
    "import pandas as pd\n",
    "import matplotlib.pyplot as plt"
   ]
  },
  {
   "cell_type": "markdown",
   "metadata": {},
   "source": [
    "# 作業一 簡易發票兌獎"
   ]
  },
  {
   "cell_type": "markdown",
   "metadata": {},
   "source": [
    "獎別\t中獎號碼\n",
    "特別獎\t45698621 \n",
    "同期統一發票收執聯8位數號碼與特別獎號碼相同者獎金1,000萬元\n",
    "特獎\t19614436 \n",
    "同期統一發票收執聯8位數號碼與特獎號碼相同者獎金200萬元\n",
    "頭獎\t96182420\n",
    "47464012\n",
    "62781818 \n",
    "同期統一發票收執聯8位數號碼與頭獎號碼相同者獎金20萬元\n",
    "二獎\t同期統一發票收執聯末7 位數號碼與頭獎中獎號碼末7 位相同者各得獎金4萬元\n",
    "三獎\t同期統一發票收執聯末6 位數號碼與頭獎中獎號碼末6 位相同者各得獎金1萬元\n",
    "四獎\t同期統一發票收執聯末5 位數號碼與頭獎中獎號碼末5 位相同者各得獎金4千元\n",
    "五獎\t同期統一發票收執聯末4 位數號碼與頭獎中獎號碼末4 位相同者各得獎金1千元\n",
    "六獎\t同期統一發票收執聯末3 位數號碼與 頭獎中獎號碼末3 位相同者各得獎金2百元\n",
    "增開六獎\t928\n",
    "899 \n",
    "同期統一發票收執聯末3位數號碼與增開六獎號碼相同者各得獎金2百元"
   ]
  },
  {
   "cell_type": "code",
   "execution_count": 38,
   "metadata": {},
   "outputs": [],
   "source": [
    "six=[928,899]\n",
    "vspecial=str(45698621)\n",
    "special=str(19614436)\n",
    "head=[96182420,47464012,62781818]\n",
    "headd=[]"
   ]
  },
  {
   "cell_type": "code",
   "execution_count": 39,
   "metadata": {},
   "outputs": [],
   "source": [
    "for i in range(3):\n",
    "    headd.append((str(head[i])[-3:]))"
   ]
  },
  {
   "cell_type": "code",
   "execution_count": 40,
   "metadata": {},
   "outputs": [],
   "source": [
    "def fspecial():\n",
    "    x=input(\">>\")\n",
    "    if x==special:\n",
    "        print(\"恭喜中頭獎200萬！\")\n",
    "    else:\n",
    "        print(\"美夢一場，沒中獎\")"
   ]
  },
  {
   "cell_type": "code",
   "execution_count": 41,
   "metadata": {},
   "outputs": [],
   "source": [
    "def fvspecial():\n",
    "    x=input(\">>\")\n",
    "    if x==vspecial:\n",
    "        print(\"恭喜中特別獎1000萬\")\n",
    "    else:\n",
    "        print(\"美夢一場，沒中獎\")"
   ]
  },
  {
   "cell_type": "code",
   "execution_count": 45,
   "metadata": {},
   "outputs": [],
   "source": [
    "def fhead():\n",
    "    x=input(\">>\")\n",
    "    if x==head[0]:\n",
    "        print(\"恭喜中頭獎\")\n",
    "    elif x==head[1]:\n",
    "        print(\"恭喜中頭獎\")\n",
    "    elif x==head[2]:\n",
    "        print(\"恭喜中頭獎\")\n",
    "            "
   ]
  },
  {
   "cell_type": "code",
   "execution_count": 46,
   "metadata": {},
   "outputs": [],
   "source": [
    "def check(a):\n",
    "    if a==vspecial[-3:]:\n",
    "        print(\"有可能中1000萬喔，請輸入完整的發票號碼\")\n",
    "        fvspecial()\n",
    "    elif a==str(six[0])or a==str(six[1]):\n",
    "        print(\"恭喜中六獎！\")\n",
    "    elif a==headd[0]or a==headd[1] or a==headd[2]  :\n",
    "        print(\"中獎，請輸入完整的發票號碼，頭獎號碼 96182420、47464012、62781818 \")\n",
    "        fhead()\n",
    "    elif a==special[-3:]:\n",
    "        print(\"有可能中200萬喔，請輸入完整的發票號碼\")\n",
    "        fspecial()\n",
    "    else:\n",
    "        print(\"沒中獎ＱＱ\")\n",
    "    return "
   ]
  },
  {
   "cell_type": "code",
   "execution_count": 47,
   "metadata": {},
   "outputs": [
    {
     "name": "stdout",
     "output_type": "stream",
     "text": [
      "請輸入末三位，欲結束程式請輸入end>>436\n",
      "有可能中200萬喔，請輸入完整的發票號碼\n",
      ">>19614436\n",
      "恭喜中頭獎200萬！\n",
      "請輸入末三位，欲結束程式請輸入end>>768\n",
      "沒中獎ＱＱ\n",
      "請輸入末三位，欲結束程式請輸入end>>896\n",
      "沒中獎ＱＱ\n",
      "請輸入末三位，欲結束程式請輸入end>>928\n",
      "恭喜中六獎！\n",
      "請輸入末三位，欲結束程式請輸入end>>end\n"
     ]
    }
   ],
   "source": [
    "while True:\n",
    "    num=input(\"請輸入末三位，欲結束程式請輸入end>>\")\n",
    "    if num==\"end\":\n",
    "        break\n",
    "    check(num)\n",
    "    "
   ]
  },
  {
   "cell_type": "markdown",
   "metadata": {},
   "source": [
    "# 作業二 "
   ]
  },
  {
   "cell_type": "code",
   "execution_count": 221,
   "metadata": {},
   "outputs": [],
   "source": [
    "from ipywidgets import Layout, Button, Box, HBox,VBox\n",
    "import random"
   ]
  },
  {
   "cell_type": "code",
   "execution_count": 222,
   "metadata": {},
   "outputs": [],
   "source": [
    "word= ['A','B','C','D','E']\n",
    "item =[Button(description=a)for a in word]\n",
    "boxs = Box(children=item)"
   ]
  },
  {
   "cell_type": "code",
   "execution_count": 223,
   "metadata": {},
   "outputs": [],
   "source": [
    "def pick(a):\n",
    "    num=np.random.randint(1,5)\n",
    "    print(work[num])\n",
    "    "
   ]
  },
  {
   "cell_type": "code",
   "execution_count": 225,
   "metadata": {},
   "outputs": [
    {
     "name": "stdout",
     "output_type": "stream",
     "text": [
      "\u001b[31m來選家事囉！\u001b[0m\n",
      "請輸入家事名稱：洗衣\n",
      "請輸入家事名稱：拖地\n",
      "請輸入家事名稱：曬衣\n",
      "請輸入家事名稱：洗碗\n",
      "請輸入家事名稱：擦地\n"
     ]
    },
    {
     "data": {
      "application/vnd.jupyter.widget-view+json": {
       "model_id": "e8c8ed2dbb8a4d9985a2b7804ea2a521",
       "version_major": 2,
       "version_minor": 0
      },
      "text/plain": [
       "Box(children=(Button(description='A', style=ButtonStyle()), Button(description='B', style=ButtonStyle()), Butt…"
      ]
     },
     "metadata": {},
     "output_type": "display_data"
    },
    {
     "name": "stdout",
     "output_type": "stream",
     "text": [
      "拖地\n",
      "洗碗\n",
      "洗碗\n",
      "拖地\n",
      "洗碗\n",
      "曬衣\n"
     ]
    }
   ],
   "source": [
    "work=[]\n",
    "print(\"\\033[31m來選家事囉！\\033[0m\")\n",
    "for i in range(5):\n",
    "    work.append(input(\"請輸入家事名稱：\"))\n",
    "    \n",
    "for i in range(5):\n",
    "    item[i].on_click(pick)\n",
    "boxs\n"
   ]
  },
  {
   "cell_type": "markdown",
   "metadata": {},
   "source": [
    "# 作業三 簡易運算"
   ]
  },
  {
   "cell_type": "code",
   "execution_count": 194,
   "metadata": {},
   "outputs": [
    {
     "name": "stdout",
     "output_type": "stream",
     "text": [
      "請輸入運算子+\n",
      "請輸入數字1 :2\n",
      "請輸入數字2 :3\n",
      "2+3=5\n"
     ]
    }
   ],
   "source": [
    "operator=input(\"請輸入運算子\")\n",
    "num1=float(input(\"請輸入數字1 :\"))\n",
    "num2=float(input(\"請輸入數字2 :\"))\n",
    "if operator==\"+\":\n",
    "    print(\"%d+%d=%d\"%(num1,num2,num1+num2))\n",
    "elif operator==\"-\":\n",
    "    print(\"%d-%d=%d\"%(num1,num2,num1-num2))\n",
    "elif operator==\"*\":\n",
    "    print(\"%d*%d=%d\"%(num1,num2,num1*num2))\n",
    "elif operator==\"/\":\n",
    "    print(\"%d/%d=%f\"%(num1,num2,num1/num2))\n",
    "elif operator==\"//\":\n",
    "    print(\"%d//%d=%d\"%(num1,num2,num1//num2))\n",
    "elif operator==\"%\":\n",
    "    print(\"%d%%%d=%d\"%(num1,num2,num1%num2))\n",
    "else:\n",
    "    print(\"輸入錯誤\")"
   ]
  },
  {
   "cell_type": "markdown",
   "metadata": {},
   "source": [
    "# 作業四 及格與否"
   ]
  },
  {
   "cell_type": "code",
   "execution_count": 208,
   "metadata": {},
   "outputs": [
    {
     "name": "stdout",
     "output_type": "stream",
     "text": [
      "班上幾個人？5\n",
      "請輸入成績67\n",
      "請輸入成績87\n",
      "請輸入成績12\n",
      "請輸入成績43\n",
      "請輸入成績76\n",
      "班上共3人及格\n"
     ]
    }
   ],
   "source": [
    "grades=[]\n",
    "num=(int(input(\"班上幾個人？\")))\n",
    "for i in range(num):\n",
    "    grades.append(int(input(\"請輸入成績\")))\n",
    "\n",
    "x=list(filter(lambda g:g>=60,grades))\n",
    "print(\"班上共%d人及格\"%(len(x)))\n"
   ]
  },
  {
   "cell_type": "markdown",
   "metadata": {},
   "source": []
  }
 ],
 "metadata": {
  "kernelspec": {
   "display_name": "Python 3",
   "language": "python",
   "name": "python3"
  },
  "language_info": {
   "codemirror_mode": {
    "name": "ipython",
    "version": 3
   },
   "file_extension": ".py",
   "mimetype": "text/x-python",
   "name": "python",
   "nbconvert_exporter": "python",
   "pygments_lexer": "ipython3",
   "version": "3.7.3"
  }
 },
 "nbformat": 4,
 "nbformat_minor": 2
}
