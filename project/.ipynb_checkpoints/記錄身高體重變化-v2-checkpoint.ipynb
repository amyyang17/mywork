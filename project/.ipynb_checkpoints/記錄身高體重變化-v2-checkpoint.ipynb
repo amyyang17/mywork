{
 "cells": [
  {
   "cell_type": "code",
   "execution_count": 64,
   "metadata": {},
   "outputs": [],
   "source": [
    "%matplotlib inline\n",
    "import tkinter as tk\n",
    "import numpy as np\n",
    "import matplotlib.pyplot as plt\n",
    "from matplotlib.backends.backend_tkagg import FigureCanvasTkAgg"
   ]
  },
  {
   "cell_type": "markdown",
   "metadata": {},
   "source": [
    "# 程式介紹：\n",
    "你常記錄自己的體重身高，順便再算BMI看有無超重？結果卻把資料都弄丟？<br>\n",
    "導致你永遠覺得自己很瘦，完全不用減肥<br>\n",
    "現在你擁有這個程式你就不用擔心會把忘記自己曾經有多重了<br>\n",
    "打開小視窗紀錄你今天的身高體重，系統會自動幫你算好BMI，再順便體提醒你<br>\n",
    "超級貼心的程式還會讓你看看你過去的歷史紀錄\n",
    "## 運用tkinter 並結合讀存取資料的方式紀錄"
   ]
  },
  {
   "cell_type": "code",
   "execution_count": 90,
   "metadata": {},
   "outputs": [],
   "source": [
    "#創建新的視窗\n",
    "window = tk.Tk()\n",
    "window.title('BMI紀錄')\n",
    "window.geometry('500x300')\n",
    "\n",
    "#設定變數以及告知事是否超重等訊息並作排版\n",
    "v_h=tk.StringVar()\n",
    "v_w=tk.StringVar()\n",
    "v_d=tk.StringVar()\n",
    "tell=tk.Label(window,text=\"\")\n",
    "his=tk.Label(window)\n",
    "tell.grid(row=3,column=1,columnspan=2)\n",
    "his.grid(row=5,columnspan=2)\n",
    "\n",
    "#使用entry來讓使用者輸入身高體重\n",
    "tk.Label(window,text=\"請輸入今天日期\").grid(row=0,column=0)\n",
    "tk.Label(window,text=\"如：12/13\").grid(row=0,column=2)\n",
    "tk.Label(window,text=\"請輸入身高\").grid(row=1,column=0)\n",
    "tk.Label(window,text=\"公分\").grid(row=1,column=2)\n",
    "tk.Label(window,text=\"請輸入體重\").grid(row=2,column=0)\n",
    "tk.Label(window,text=\"公斤\").grid(row=2,column=2)\n",
    "w = tk.Entry(window,textvariable=v_w)\n",
    "h = tk.Entry(window,textvariable=v_h)\n",
    "d = tk.Entry(window,textvariable=v_d)\n",
    "d.grid(row=0,column=1)\n",
    "h.grid(row=1,column=1)\n",
    "w.grid(row=2,column=1)\n",
    "\n",
    "#設立計算的按鍵，並分別判斷BMI的區間\n",
    "def button():\n",
    "    height=float(v_h.get())\n",
    "    weight=float(v_w.get())\n",
    "    day=str(v_d.get())\n",
    "    bmi=weight/((height/100)**2)\n",
    "    bmi=np.round(bmi,2)\n",
    "    f=open(\"BMI.txt\",\"a\")\n",
    "    f.write(f\"{day}:{height:.1f}公分,{weight:.1f}公斤,BMI={bmi}\\n\")\n",
    "    f.close()\n",
    "    \n",
    "    if bmi <18.5:\n",
    "        tell.config(text=f\"\\033[31mBMI={bmi},體重過輕,多吃點啦！\\033[0m\")\n",
    "    elif bmi<24:\n",
    "        tell.config(text=f\"BMI={bmi},正常範圍,維持好現在這樣吧\")\n",
    "    elif bmi<27:\n",
    "        tell.config(text=f\"BMI={bmi},體重過重,可以少吃點東西\")\n",
    "    elif bmi<30:\n",
    "        tell.config(text=f\"BMI={bmi},輕度肥胖,該減肥了\")\n",
    "    elif bmi<35:\n",
    "        tell.config(text=f\"BMI={bmi},中度肥胖,真的該減肥了\")\n",
    "    else:\n",
    "        tell.config(text=f\"BMI={bmi},重度肥胖,真的非常非常需要減肥囉！\")\n",
    "    \n",
    "\n",
    "#查看歷史紀錄\n",
    "def look():\n",
    "    flook=open(\"BMI.txt\",\"r\")\n",
    "    history=flook.readlines()\n",
    "    flook.close()\n",
    "    his.config(text=history)\n",
    "\n",
    "#查看圖表\n",
    "def lookplot():\n",
    "    #開啟檔案\n",
    "    flook=open(\"BMI.txt\",\"r\")\n",
    "    history=flook.readlines()\n",
    "    flook.close()\n",
    "    \n",
    "    #讀取紀錄資料\n",
    "    day,h,w,bmi=[],[],[],[]\n",
    "    for i in range(0,len(history)):\n",
    "        day.append(history[i][0:5])\n",
    "        h.append(float(history[i][7:11]))\n",
    "        w.append(float(history[i][14:18]))\n",
    "        bmi.append(float(history[i][25:30]))\n",
    "        \n",
    "    #畫圖出來\n",
    "    new = tk.Toplevel(window)\n",
    "    new.geometry('400x300')\n",
    "    new.title('過去走勢')\n",
    "    \n",
    "    figure = plt.Figure(figsize=(6,4),)\n",
    "    plot = figure.add_subplot(1,1,1)\n",
    "    plot.plot(day,bmi)\n",
    "    plot.axhspan(24,27, facecolor='yellow', alpha=0.3)\n",
    "    canvas = FigureCanvasTkAgg(figure, new)\n",
    "    canvas.get_tk_widget().grid(row=0, column=0)\n",
    "    canvas = tk.Canvas(new, width=300, height=200)\n",
    "    canvas.grid()\n",
    "\n",
    "#按鍵的設計\n",
    "bt=tk.Button(window,text=\"計算\",command=button)\n",
    "bt.grid(row=3,column=0)\n",
    "\n",
    "btl=tk.Button(window,text=\"查看歷史紀錄\",command=look)\n",
    "btl.grid(row=4,column=0)\n",
    "\n",
    "btp=tk.Button(window,text=\"查看過去走勢\",command=lookplot)\n",
    "btp.grid(row=4,column=1)\n",
    "\n",
    "\n",
    "#執行\n",
    "window.mainloop()"
   ]
  },
  {
   "cell_type": "code",
   "execution_count": 24,
   "metadata": {},
   "outputs": [],
   "source": []
  },
  {
   "cell_type": "code",
   "execution_count": 26,
   "metadata": {},
   "outputs": [
    {
     "data": {
      "text/plain": [
       "['12/10:170.0公分,75.0公斤,BMI=25.95\\n',\n",
       " '12/11:170.5公分,75.5公斤,BMI=25.97\\n',\n",
       " '12/20:170.3公分,76.0公斤,BMI=26.21\\n',\n",
       " '12/21:170.4公分,79.0公斤,BMI=27.21\\n',\n",
       " '12/22:170.4公分,85.0公斤,BMI=29.27\\n',\n",
       " '12/23:170.4公分,83.0公斤,BMI=28.59\\n',\n",
       " '12/24:170.4公分,80.0公斤,BMI=27.55\\n',\n",
       " '12/25:171.0公分,75.0公斤,BMI=25.65\\n']"
      ]
     },
     "execution_count": 26,
     "metadata": {},
     "output_type": "execute_result"
    }
   ],
   "source": [
    "flook=open(\"BMI.txt\",\"r\")\n",
    "history=flook.readlines()\n",
    "flook.close()\n",
    "history"
   ]
  },
  {
   "cell_type": "code",
   "execution_count": 56,
   "metadata": {},
   "outputs": [
    {
     "data": {
      "text/plain": [
       "<matplotlib.patches.Polygon at 0x1251ee278>"
      ]
     },
     "execution_count": 56,
     "metadata": {},
     "output_type": "execute_result"
    },
    {
     "data": {
      "image/png": "[encoded data removed]",
      "text/plain": [
       "<Figure size 432x288 with 1 Axes>"
      ]
     },
     "metadata": {
      "needs_background": "light"
     },
     "output_type": "display_data"
    }
   ],
   "source": [
    "day,h,w,bmi=[],[],[],[]\n",
    "for i in range(0,len(history)):\n",
    "    day.append(history[i][0:5])\n",
    "    h.append(float(history[i][7:11]))\n",
    "    w.append(float(history[i][14:18]))\n",
    "    bmi.append(float(history[i][25:30]))\n",
    "p=plt.plot(day,bmi)\n",
    "plt.axhspan(24,27, facecolor='yellow', alpha=0.3)"
   ]
  },
  {
   "cell_type": "code",
   "execution_count": 47,
   "metadata": {},
   "outputs": [
    {
     "data": {
      "text/plain": [
       "<matplotlib.patches.Polygon at 0x122bd1b70>"
      ]
     },
     "execution_count": 47,
     "metadata": {},
     "output_type": "execute_result"
    },
    {
     "data": {
      "image/png": "[encoded data removed]",
      "text/plain": [
       "<Figure size 432x288 with 1 Axes>"
      ]
     },
     "metadata": {
      "needs_background": "light"
     },
     "output_type": "display_data"
    }
   ],
   "source": [
    "\n"
   ]
  },
  {
   "cell_type": "code",
   "execution_count": 9,
   "metadata": {},
   "outputs": [],
   "source": [
    "bmi=float(history[0][25:30])"
   ]
  },
  {
   "cell_type": "code",
   "execution_count": 25,
   "metadata": {},
   "outputs": [
    {
     "data": {
      "text/plain": [
       "['12/10:170.0公分,75.0公斤,BMI=25.95\\n',\n",
       " '12/11:170.5公分,75.5公斤,BMI=25.97\\n',\n",
       " '12/20:170.3公分,76.0公斤,BMI=26.21\\n']"
      ]
     },
     "execution_count": 25,
     "metadata": {},
     "output_type": "execute_result"
    }
   ],
   "source": [
    "history"
   ]
  },
  {
   "cell_type": "code",
   "execution_count": null,
   "metadata": {},
   "outputs": [],
   "source": [
    "p = plt.Figure(figsize=(5,4), dpi=100)\n",
    "    line= FigureCanvasTkAgg(p, new)\n",
    "    line.get_tk_widget().grid()\n",
    "    plt.plot(day,bmi)\n",
    "    plt.plot(kind='line', legend=True, ax=ax2, color='r',marker='o', fontsize=10)\n",
    "    plt.axhspan(24,27, facecolor='yellow', alpha=0.3)\n",
    "    \n",
    "    chart=FigureCanvasTkAgg(p,new)\n",
    "    chart.get_tk_widget().grid()\n",
    "    "
   ]
  }
 ],
 "metadata": {
  "kernelspec": {
   "display_name": "Python 3",
   "language": "python",
   "name": "python3"
  },
  "language_info": {
   "codemirror_mode": {
    "name": "ipython",
    "version": 3
   },
   "file_extension": ".py",
   "mimetype": "text/x-python",
   "name": "python",
   "nbconvert_exporter": "python",
   "pygments_lexer": "ipython3",
   "version": "3.7.3"
  }
 },
 "nbformat": 4,
 "nbformat_minor": 2
}
