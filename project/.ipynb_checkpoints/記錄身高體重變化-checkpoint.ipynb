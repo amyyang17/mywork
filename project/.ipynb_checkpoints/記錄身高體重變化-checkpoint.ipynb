{
 "cells": [
  {
   "cell_type": "code",
   "execution_count": 1,
   "metadata": {},
   "outputs": [],
   "source": [
    "import tkinter as tk\n",
    "import numpy as np"
   ]
  },
  {
   "cell_type": "markdown",
   "metadata": {},
   "source": [
    "# 程式介紹：\n",
    "你常記錄自己的體重身高，順便再算BMI看有無超重？結果卻把資料都弄丟？<br>\n",
    "導致你永遠覺得自己很瘦，完全不用減肥<br>\n",
    "現在你擁有這個程式你就不用擔心會把忘記自己曾經有多重了<br>\n",
    "打開小視窗紀錄你今天的身高體重，系統會自動幫你算好BMI，再順便體提醒你<br>\n",
    "超級貼心的程式還會讓你看看你過去的歷史紀錄\n",
    "## 運用tkinter 並結合讀存取資料的方式紀錄"
   ]
  },
  {
   "cell_type": "code",
   "execution_count": 2,
   "metadata": {},
   "outputs": [],
   "source": [
    "#創建新的視窗\n",
    "window = tk.Tk()\n",
    "window.title('BMI紀錄')\n",
    "window.geometry('500x300')\n",
    "\n",
    "#設定變數以及告知事是否超重等訊息並作排版\n",
    "v_h=tk.StringVar()\n",
    "v_w=tk.StringVar()\n",
    "v_d=tk.StringVar()\n",
    "tell=tk.Label(window,text=\"\")\n",
    "his=tk.Label(window)\n",
    "tell.grid(row=3,column=1,columnspan=2)\n",
    "his.grid(row=5,columnspan=2)\n",
    "\n",
    "#使用entry來讓使用者輸入身高體重\n",
    "tk.Label(window,text=\"請輸入今天日期\").grid(row=0,column=0)\n",
    "tk.Label(window,text=\"如：12/13\").grid(row=0,column=2)\n",
    "tk.Label(window,text=\"請輸入身高\").grid(row=1,column=0)\n",
    "tk.Label(window,text=\"公分\").grid(row=1,column=2)\n",
    "tk.Label(window,text=\"請輸入體重\").grid(row=2,column=0)\n",
    "tk.Label(window,text=\"公斤\").grid(row=2,column=2)\n",
    "w = tk.Entry(window,textvariable=v_w)\n",
    "h = tk.Entry(window,textvariable=v_h)\n",
    "d = tk.Entry(window,textvariable=v_d)\n",
    "d.grid(row=0,column=1)\n",
    "h.grid(row=1,column=1)\n",
    "w.grid(row=2,column=1)\n",
    "\n",
    "#設立計算的按鍵，並分別判斷BMI的區間\n",
    "def button():\n",
    "    height=float(v_h.get())\n",
    "    weight=float(v_w.get())\n",
    "    day=str(v_d.get())\n",
    "    bmi=weight/((height/100)**2)\n",
    "    bmi=np.round(bmi,2)\n",
    "    f=open(\"BMI.txt\",\"a\")\n",
    "    f.write(f\"{day}:{height:.1f}公分,{weight:.1f}公斤,BMI={bmi}\\n\")\n",
    "    f.close()\n",
    "    \n",
    "    if bmi <18.5:\n",
    "        tell.config(text=f\"BMI={bmi},體重過輕,多吃點啦！\")\n",
    "    elif bmi<24:\n",
    "        tell.config(text=f\"BMI={bmi},正常範圍,維持好現在這樣吧\")\n",
    "    elif bmi<27:\n",
    "        tell.config(text=f\"BMI={bmi},體重過重,可以少吃點東西\")\n",
    "    elif bmi<30:\n",
    "        tell.config(text=f\"BMI={bmi},輕度肥胖,該減肥了\")\n",
    "    elif bmi<35:\n",
    "        tell.config(text=f\"BMI={bmi},中度肥胖,真的該減肥了\")\n",
    "    else:\n",
    "        tell.config(text=f\"BMI={bmi},重度肥胖,真的非常非常需要減肥囉！\")\n",
    "    \n",
    "    \n",
    "#查看歷史紀錄\n",
    "def look():\n",
    "    flook=open(\"BMI.txt\",\"r\")\n",
    "    history=flook.readlines()\n",
    "    flook.close()\n",
    "    his.config(text=history)\n",
    "\n",
    "#按鍵的設計\n",
    "bt=tk.Button(window,text=\"計算\",command=button)\n",
    "bt.grid(row=3,column=0)\n",
    "\n",
    "btl=tk.Button(window,text=\"查看歷史紀錄\",command=look)\n",
    "btl.grid(row=4,column=0)\n"
   ]
  },
  {
   "cell_type": "code",
   "execution_count": null,
   "metadata": {},
   "outputs": [],
   "source": [
    "#執行\n",
    "window.mainloop()"
   ]
  },
  {
   "cell_type": "code",
   "execution_count": null,
   "metadata": {},
   "outputs": [],
   "source": []
  }
 ],
 "metadata": {
  "kernelspec": {
   "display_name": "Python 3",
   "language": "python",
   "name": "python3"
  },
  "language_info": {
   "codemirror_mode": {
    "name": "ipython",
    "version": 3
   },
   "file_extension": ".py",
   "mimetype": "text/x-python",
   "name": "python",
   "nbconvert_exporter": "python",
   "pygments_lexer": "ipython3",
   "version": "3.7.3"
  }
 },
 "nbformat": 4,
 "nbformat_minor": 2
}
