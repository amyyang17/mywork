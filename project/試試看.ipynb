{
 "cells": [
  {
   "cell_type": "code",
   "execution_count": 3,
   "metadata": {},
   "outputs": [
    {
     "name": "stderr",
     "output_type": "stream",
     "text": [
      "Exception in Tkinter callback\n",
      "Traceback (most recent call last):\n",
      "  File \"/Users/amy/anaconda3/lib/python3.7/tkinter/__init__.py\", line 1705, in __call__\n",
      "    return self.func(*args)\n",
      "  File \"<ipython-input-3-d30f3463311b>\", line 26, in bt1\n",
      "    choice[i].config(text=ca[j][i],command=select)\n",
      "IndexError: list index out of range\n"
     ]
    }
   ],
   "source": [
    "import tkinter as tk\n",
    "window=tk.Tk()\n",
    "window.title(\"try1\")\n",
    "window.geometry(\"500x500\")\n",
    "\n",
    "var=tk.IntVar()\n",
    "var.set(0)\n",
    "choice=[]\n",
    "j=0\n",
    "\n",
    "\n",
    "l=tk.Label(window,text=\"你尚未選擇\")\n",
    "l.pack()\n",
    "label=tk.Label(window,text=\"嗨囉，歡迎來到遊戲，底下選擇你的姓名開始吧\")\n",
    "label.pack(side=\"left\")\n",
    "c1={0:\"日本\",1:\"美國\",2:\"台灣\"}\n",
    "c2={0:\"aaa\",1:\"cccc\",2:\"000\"}\n",
    "c3={0:\"fdehou\",1:\"fwcwe\",2:\"cenwo\"}\n",
    "ca=[c1,c2,c3]\n",
    "\n",
    "\n",
    "def bt1():\n",
    "    global j\n",
    "    j=j+1\n",
    "    for i in range(0,3):\n",
    "        choice[i].config(text=ca[j][i],command=select)\n",
    "    \n",
    "        \n",
    "def select():\n",
    "    l.config(text=f\"你選擇了{ca[j][var.get()]}\")\n",
    "\n",
    "\n",
    "    \n",
    "#最開始設定的\n",
    "for val,city in ca[0].items():\n",
    "    choice.append(tk.Radiobutton(window,text=city,variable=var,value=val,command=select))\n",
    "    choice[-1].pack()\n",
    "\n",
    "bt1=tk.Button(window,text=\"Next\",command=bt1)\n",
    "bt1.pack()\n",
    "\n",
    "window.mainloop()"
   ]
  },
  {
   "cell_type": "code",
   "execution_count": 25,
   "metadata": {},
   "outputs": [],
   "source": []
  },
  {
   "cell_type": "code",
   "execution_count": null,
   "metadata": {},
   "outputs": [],
   "source": []
  }
 ],
 "metadata": {
  "kernelspec": {
   "display_name": "Python 3",
   "language": "python",
   "name": "python3"
  },
  "language_info": {
   "codemirror_mode": {
    "name": "ipython",
    "version": 3
   },
   "file_extension": ".py",
   "mimetype": "text/x-python",
   "name": "python",
   "nbconvert_exporter": "python",
   "pygments_lexer": "ipython3",
   "version": "3.7.3"
  }
 },
 "nbformat": 4,
 "nbformat_minor": 2
}
