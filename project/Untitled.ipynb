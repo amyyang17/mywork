{
 "cells": [
  {
   "cell_type": "code",
   "execution_count": 2,
   "metadata": {},
   "outputs": [],
   "source": [
    "%matplotlib inline \n",
    "import pandas as pd\n",
    "import numpy as np\n",
    "import matplotlib.pyplot as plt\n",
    "import pandas_datareader as pdr"
   ]
  },
  {
   "cell_type": "code",
   "execution_count": 3,
   "metadata": {},
   "outputs": [],
   "source": [
    "import tkinter as tk"
   ]
  },
  {
   "cell_type": "code",
   "execution_count": null,
   "metadata": {},
   "outputs": [],
   "source": [
    "window=tk.Tk()\n",
    "window.title(\"try1\")\n",
    "window.geometry(\"500x500\")\n",
    "\n",
    "var=tk.IntVar()\n",
    "var.set(0)\n",
    "choice=[]\n",
    "\n",
    "\n",
    "l=tk.Label(window,text=\"你尚未選擇\")\n",
    "l.pack()\n",
    "label=tk.Label(window,text=\"嗨囉，歡迎來到遊戲，底下選擇你的姓名開始吧\")\n",
    "label.pack(side=\"left\")\n",
    "l2=tk.Label(window,text=\"sas\")\n",
    "l2.pack()\n",
    "cities={0:\"日本\",1:\"美國\",2:\"台灣\"}\n",
    "cit={0:\"aaa\",1:\"cccc\",2:\"000\"}\n",
    "c={0:\"a\",1:\"c\",2:\"b\"}\n",
    "cd={0:\"add\",1:\"cdd\",2:\"bdd\"}\n",
    "allc=[cities,cit,c,cd]\n",
    "j=0\n",
    "\n",
    "\n",
    "def bt():\n",
    "    if k==\"日本\":\n",
    "        j=2\n",
    "    elif k==\"美國\":\n",
    "        j=3\n",
    "    else:\n",
    "        j=1\n",
    "    bt1(j)\n",
    "        \n",
    "def bt1(j):\n",
    "    def select():\n",
    "        l.config(text=f\"你選擇了{allc[j][var.get()]}\")\n",
    "        a=allc[j-1][var.get()]\n",
    "        \n",
    "        return a\n",
    "    \n",
    "    for i in range(0,len(allc[j])):\n",
    "        choice[i].config(text=allc[j][i],command=select)\n",
    "        \n",
    "    l2.config(text=f\"你剛選擇了{select()}\")\n",
    "    \n",
    "    k=a\n",
    "    return k\n",
    "\n",
    "for i in range(0,len(cities)):\n",
    "    choice.append(tk.Radiobutton(window,text=cities[i],variable=var,value=i,command=select))\n",
    "    choice[-1].pack()\n",
    "    \n",
    "bt=tk.Button(window,text=\"Next\",command=bt)\n",
    "bt.pack()\n",
    "\n",
    "\n",
    "window.mainloop()"
   ]
  }
 ],
 "metadata": {
  "kernelspec": {
   "display_name": "Python 3",
   "language": "python",
   "name": "python3"
  },
  "language_info": {
   "codemirror_mode": {
    "name": "ipython",
    "version": 3
   },
   "file_extension": ".py",
   "mimetype": "text/x-python",
   "name": "python",
   "nbconvert_exporter": "python",
   "pygments_lexer": "ipython3",
   "version": "3.7.3"
  }
 },
 "nbformat": 4,
 "nbformat_minor": 2
}
