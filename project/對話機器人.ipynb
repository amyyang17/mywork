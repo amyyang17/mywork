{
 "cells": [
  {
   "cell_type": "code",
   "execution_count": 1,
   "metadata": {},
   "outputs": [],
   "source": [
    "%matplotlib inline\n",
    "import pandas as pd\n",
    "import numpy as np\n",
    "import matplotlib.pyplot as plt\n",
    "import requests\n",
    "from bs4 import BeautifulSoup\n",
    "import webbrowser"
   ]
  },
  {
   "cell_type": "markdown",
   "metadata": {},
   "source": [
    "# 程式介紹\n",
    "拍拍機器人的稍微進化版，可以提供一些基本的功能，如上網查資料、看影片、也可直接翻譯、以及一些溫度轉換、利率計算的小工具，結合網路爬蟲等資源模組。"
   ]
  },
  {
   "cell_type": "markdown",
   "metadata": {},
   "source": [
    "## 查詢維基百科"
   ]
  },
  {
   "cell_type": "code",
   "execution_count": 2,
   "metadata": {},
   "outputs": [],
   "source": [
    "def search(term,num):\n",
    "    res=requests.get(f\"https://zh.wikipedia.org/wiki/{term}\")\n",
    "    soup=BeautifulSoup(res.text)\n",
    "    content=soup.select(\"div.mw-parser-output p\")\n",
    "    for i in range(0,num):\n",
    "        print (f\"\\033[34m{content[i].text}\\033[0m\")\n",
    "    "
   ]
  },
  {
   "cell_type": "markdown",
   "metadata": {},
   "source": [
    "## 翻譯機"
   ]
  },
  {
   "cell_type": "code",
   "execution_count": 3,
   "metadata": {},
   "outputs": [],
   "source": [
    "from googletrans import Translator\n",
    "def trans():\n",
    "    content=input(\"想翻譯什麼呢？\")\n",
    "    translater=Translator()\n",
    "    tr_content=translater.translate(content,dest=\"en\").text\n",
    "    print(f\"\\n以下為翻譯成英文後：\\n{tr_content}\\n\")"
   ]
  },
  {
   "cell_type": "markdown",
   "metadata": {},
   "source": [
    "## 影片查詢"
   ]
  },
  {
   "cell_type": "code",
   "execution_count": 4,
   "metadata": {},
   "outputs": [],
   "source": [
    "def video():\n",
    "    term=input(\"想看什麼影片呢？\")\n",
    "    request = requests.get(f\"https://www.youtube.com/results?search_query={term}\")\n",
    "    content = request.content\n",
    "    soup = BeautifulSoup(content, \"html.parser\")\n",
    "    print(\"\\n以下為替你在YouTube上找到的影片：\")\n",
    "    for video in soup.select(\".yt-lockup-video\"):\n",
    "        data = video.select(\"a[rel='spf-prefetch']\")\n",
    "        print(data[0].get(\"title\"))\n",
    "        print(\"https://www.youtube.com{}\\n\".format(data[0].get(\"href\")))"
   ]
  },
  {
   "cell_type": "markdown",
   "metadata": {},
   "source": [
    "## 小工具(利率計算、溫度轉換）"
   ]
  },
  {
   "cell_type": "code",
   "execution_count": 5,
   "metadata": {},
   "outputs": [],
   "source": [
    "#溫度計\n",
    "def tool_1():\n",
    "    degree=input(\"請輸入華氏或攝氏的溫度：\\n(e.g. 華氏140度/攝氏38度)\")\n",
    "    if \"華氏\"in degree:\n",
    "        f=float(degree.strip(\"華氏\").strip(\"度\"))\n",
    "        c=(f-32)*(5/9)\n",
    "        print(\"\\033[31m華氏%2.f度相當於攝氏%2.f度\\033[0m\"%(f,c))\n",
    "    elif \"攝氏\"in degree:\n",
    "        c=float(degree.strip(\"攝氏\").strip(\"度\"))\n",
    "        f=(9/5)*c+32\n",
    "        print(\"\\033[31m攝氏%2.f度相當於華氏%2.f度\\033[0m\"%(c,f))\n",
    "        \n",
    "#期末還本金＋利息\n",
    "def tool_2():\n",
    "    pv=float(input(\"你想借多少錢？\"))\n",
    "    n=int(input(\"你想借幾年？\"))\n",
    "    i=input(\"請輸入年利率：\")\n",
    "    if '%'in i :\n",
    "        i=i.rstrip(\"%\")\n",
    "        i=float(i)/100\n",
    "    else:\n",
    "        i=float(i)\n",
    "    cf=pv*((1+i)**n)\n",
    "    print(f\"\\033[31m{n}年後要還{cf:.1f}元\\033[0m\")  \n",
    "    \n",
    "#每期還本金加利息\n",
    "def tool_3():\n",
    "    Lv=float(input(\"你想借多少錢？\"))\n",
    "    n=int(input(\"你想借幾年？\"))\n",
    "    i=input(\"請輸入年利率：\")\n",
    "    summ=0\n",
    "    if '%'in i :\n",
    "        i=i.rstrip(\"%\")\n",
    "        i=float(i)/100\n",
    "    else:\n",
    "        i=float(i)\n",
    "    for k in range(n):\n",
    "        summ=summ+(1+i)**k\n",
    "    total=(1+i)**n*Lv\n",
    "    peryear=total/summ\n",
    "    print(f\"\\033[31m每年平均大約要還{peryear:.2f}元\\033[0m\")\n"
   ]
  },
  {
   "cell_type": "code",
   "execution_count": 6,
   "metadata": {},
   "outputs": [
    {
     "data": {
      "text/plain": [
       "'你想幹嘛咧'"
      ]
     },
     "execution_count": 6,
     "metadata": {},
     "output_type": "execute_result"
    }
   ],
   "source": [
    "text=[\"我還能替你幹嘛咧？\",\"我超級好用的吧\" ,'你想幹嘛咧', \"siri是我朋友呢\"]\n",
    "pick=np.random.randint(0,len(text))\n",
    "text[pick]"
   ]
  },
  {
   "cell_type": "code",
   "execution_count": 7,
   "metadata": {},
   "outputs": [
    {
     "name": "stdout",
     "output_type": "stream",
     "text": [
      "嗨！我是新一代的對話機器人，想要我做什麼呢？\n",
      ">>不知道\n",
      "\n",
      "功能介紹：\n",
      "        我能夠替你處理生活上的一些小事\n",
      "        想看影片嗎？要幫你翻譯東西嗎？還是要幫你查查資料？\n",
      "        我還提供一些小工具像是計算利率、溫度轉換的小工具吧\n",
      "        快來試看看吧\n",
      "        若要離開請輸入「Q」\n",
      "        \n",
      ">>翻譯\n",
      "想翻譯什麼呢？我好可愛\n",
      "\n",
      "以下為翻譯成英文後：\n",
      "I'm so cute\n",
      "\n",
      "我還能替你幹嘛咧？\n",
      ">>查政治大學\n",
      "\n",
      "以下為為你在維基百科中找到的資料：\n",
      "\n",
      "\u001b[34m國立政治大學，簡稱政大，1927年建校於江蘇南京市，1954年由行政院核定，復校於臺灣臺北市，為中華民國首間在臺復校的國立大學。創校任務為負責培養國家政治、管理及法學人才[註 2]的中央院校之一[16]，其後發展為臺灣地區人文學科及社會科學領域為主的國立大學，也成為亞洲及太平洋地區重要智庫之一。[17][18][19]\n",
      "\u001b[0m\n",
      "我超級好用的吧\n",
      ">>還好\n",
      "我還能替你幹嘛咧？\n",
      ">>聊天\n",
      "QQ其實我現在來不太會跟你聊天，我還在努力學習中，不過你可以要我幫你做事喔\n",
      ">>好吧\n",
      "siri是我朋友呢\n",
      ">>噢\n",
      "我超級好用的吧\n",
      ">>還好\n",
      "siri是我朋友呢\n",
      ">>噢\n",
      "我還能替你幹嘛咧？\n",
      ">>工具\n",
      "使用溫度計？利率計算？溫度計\n",
      "請輸入華氏或攝氏的溫度：\n",
      "(e.g. 華氏140度/攝氏38度)攝氏20度\n",
      "\u001b[31m攝氏20度相當於華氏68度\u001b[0m\n",
      ">>工具\n",
      "使用溫度計？利率計算？利率計算\n",
      "1.期末還本金＋利息?\n",
      "2.每期還本金加利息?1\n",
      "你想借多少錢？1000\n",
      "你想借幾年？5\n",
      "請輸入年利率：5%\n",
      "\u001b[31m5年後要還1276.3元\u001b[0m\n",
      ">>看影片\n",
      "想看什麼影片呢？蔡桃貴\n",
      "\n",
      "以下為替你在YouTube上找到的影片：\n",
      "蔡桃貴吃了彩色蔬菜水餃，馬上吐掉！超不捧場！【廚神嘎嫂二伯#11】\n",
      "https://www.youtube.com/watch?v=WZ9YcM1Kyao\n",
      "\n",
      "【蔡桃貴】包懷孕滾床單大師！宗翰趕快生Baby陪我玩！(1Y4M21D)\n",
      "https://www.youtube.com/watch?v=UCKS075QJIo\n",
      "\n",
      "【蔡阿嘎新手爸媽日記#48】蔡桃貴、蔡波能 一家四口上雜誌封面啦！\n",
      "https://www.youtube.com/watch?v=rZlfPB9v0kE\n",
      "\n",
      "【蔡桃貴成長日記#42】私底下的惡魔貴貴！是搗蛋大師！\n",
      "https://www.youtube.com/watch?v=gvbIuuZO-KE\n",
      "\n",
      "【蔡桃貴】在地上蠕動的詭異父子檔！(1Y4M14D)\n",
      "https://www.youtube.com/watch?v=fjYOblL2pOg\n",
      "\n",
      "【蔡波能性別揭曉】蔡阿嘎上輩子是單身狗？蔡桃貴神預言！\n",
      "https://www.youtube.com/watch?v=B2Le5GG_kE0\n",
      "\n",
      "【蔡桃貴成長日記#41】第一次畫畫，把整個家都毀了！蔡阿嘎大崩潰！ 【蔡阿嘎Life】\n",
      "https://www.youtube.com/watch?v=-vQVZQNNvEY\n",
      "\n",
      "嘎奇麥唬爛#51：連續在美國吃七天高熱量食物，會胖幾公斤？(蔡阿嘎網路流言終結者)\n",
      "https://www.youtube.com/watch?v=xb3ZX2km5ro\n",
      "\n",
      "【蔡桃貴】聽到「抱抱」就深情擁抱！太融化了！(1Y4M18D)\n",
      "https://www.youtube.com/watch?v=DhUZyGWmt9Y\n",
      "\n",
      "【蔡桃貴】超可愛接龍大師，蔡阿嘎說「桃」自己就接「貴」！(1Y3M13D)\n",
      "https://www.youtube.com/watch?v=1LsyEp0uQ5w\n",
      "\n",
      "【蔡桃貴成長日記#33】1歲就超會講話！簡直神童啊！\n",
      "https://www.youtube.com/watch?v=CTymmkQ2wps\n",
      "\n",
      "【蔡阿嘎新手爸媽日記#45】開箱蔡桃貴行李箱！嬰兒出國都帶什麼？\n",
      "https://www.youtube.com/watch?v=q6-0a11sCas\n",
      "\n",
      "【人體實測】 狂吃地瓜，真的會狂放屁嗎？(蔡阿嘎X POIEMA Fit 空氣淨化器)\n",
      "https://www.youtube.com/watch?v=3nDMAe7Z-64\n",
      "\n",
      "【蔡阿嘎新手爸媽日記#44】讓嘎妹照顧蔡桃貴一整天！貴貴大崩潰啦！\n",
      "https://www.youtube.com/watch?v=PtT2j5Ca0cM\n",
      "\n",
      "【老闆VS員工】蔡阿嘎工作室烤肉生死鬥！輸的被砸派，員工趁機教訓老闆！\n",
      "https://www.youtube.com/watch?v=y0odiPtabnE\n",
      "\n",
      "【蔡桃貴】會從1數到10了！奶音超可愛！（1Y2M21D)\n",
      "https://www.youtube.com/watch?v=CsvO6usBqaw\n",
      "\n",
      "【蔡桃貴】姑姑好兇！為什麼不能拿遙控器？(9M25D)\n",
      "https://www.youtube.com/watch?v=irfA2zyjIOE\n",
      "\n",
      "【蔡桃貴】第一次滾床獻給幫藏鏡人！保證懷孕，有人想報名嗎？(10M2D)\n",
      "https://www.youtube.com/watch?v=DuqfuJJXET4\n",
      "\n",
      "【蔡桃貴】跟阿爸嘴對嘴吃餅乾！好害羞啊！(1Y4M10D)\n",
      "https://www.youtube.com/watch?v=XlvcELt972U\n",
      "\n",
      "【蔡桃貴成長日記#14】四個月收涎囉！竟然還偷吃，差點噎到！\n",
      "https://www.youtube.com/watch?v=XtxfnzuhNUs\n",
      "\n",
      "【蔡桃貴成長日記#36】第一次坐飛機就 挑戰14小時，有坐到崩潰嗎？\n",
      "https://www.youtube.com/watch?v=mrsCCJ3ddwE\n",
      "\n",
      "【蔡桃貴成長日記#40】一歲後打針，哭到大崩潰啦！ 前一秒還很興奮....\n",
      "https://www.youtube.com/watch?v=YSWx6YBlIAA\n",
      "\n",
      "【桃貴安親班#2：健康教育課】蔡桃貴X反骨瑋哥，蔡桃貴上到崩潰，罷課啦！\n",
      "https://www.youtube.com/watch?v=ZHHK3y49FI0\n",
      "\n",
      "蔡桃貴預言：是弟弟還是妹妹？大家一起猜猜看！【蔡阿嘎 二伯's 二寶日記】\n",
      "https://www.youtube.com/watch?v=U-7HcjgrrwI\n",
      "\n",
      "【蔡桃貴成長日記#34】被蔡英文總統召見，去總統官邸撒野啦！蔡阿嘎在一旁嚇死！\n",
      "https://www.youtube.com/watch?v=RAZLMuaxjUI\n",
      "\n",
      "【票選】蔡桃貴弟(妹)的外號，由你決定！蔡波能、蔡單、蔡奇亞、蔡桃湯？【蔡阿嘎 二伯's 二寶日記】\n",
      "https://www.youtube.com/watch?v=Xc1GnL_CmNg\n",
      "\n",
      "【環島挑戰號#6】蔡桃貴X蔡阿嘎X妞妞TV X 彼得爸與蘇珊媽：台中100人寶寶爬行大賽！\n",
      "https://www.youtube.com/watch?v=u7-yu2yWxmk\n",
      "\n",
      "【蔡桃貴】姑姑的照片好恐怖，是「鬼」！(1Y3M27D)\n",
      "https://www.youtube.com/watch?v=8g_cVtkaySI\n",
      "\n",
      "【蔡桃貴成長日記#38】美國行Vlog，連外國人都被萌翻！\n",
      "https://www.youtube.com/watch?v=XCwEPTzmLfU\n",
      "\n",
      "我超級好用的吧\n",
      ">>Q\n",
      "掰掰，有緣再相見~\n"
     ]
    }
   ],
   "source": [
    "print(\"嗨！我是新一代的對話機器人，想要我做什麼呢？\")\n",
    "text=[\"我還能替你幹嘛咧？\",\"我超級好用的吧\" ,'你想幹嘛咧', \"siri是我朋友呢\"]\n",
    "\n",
    "while True:\n",
    "    mes=input(\">>\")\n",
    "    if mes==\"Q\":\n",
    "        print(\"掰掰，有緣再相見~\")\n",
    "        break\n",
    "    if \"查\" in mes:\n",
    "        num=mes.index(\"查\")\n",
    "        word=mes[int(num)+1:]\n",
    "        print(\"\\n以下為為你在維基百科中找到的資料：\\n\")\n",
    "        search(word,1)\n",
    "        pick=np.random.randint(0,len(text))    \n",
    "        print(text[pick]) \n",
    "        \n",
    "    elif \"翻譯\" in mes:\n",
    "        trans()\n",
    "        pick=np.random.randint(0,len(text))    \n",
    "        print(text[pick]) \n",
    "    elif \"影片\" in mes:\n",
    "        video()\n",
    "        pick=np.random.randint(0,len(text))    \n",
    "        print(text[pick]) \n",
    "    elif \"不知\" in mes:\n",
    "        print(\"\"\"\\n功能介紹：\n",
    "        我能夠替你處理生活上的一些小事\n",
    "        想看影片嗎？要幫你翻譯東西嗎？還是要幫你查查資料？\n",
    "        我還提供一些小工具像是計算利率、溫度轉換的小工具吧\n",
    "        快來試看看吧\n",
    "        若要離開請輸入「Q」\n",
    "        \"\"\")\n",
    "    elif \"離開\" in mes:\n",
    "        print(\"若要離開請輸入「Q」\")\n",
    "        \n",
    "    elif \"聊天\"in mes:\n",
    "        print(\"QQ其實我現在來不太會跟你聊天，我還在努力學習中，不過你可以要我幫你做事喔\")\n",
    "        \n",
    "    elif \"工具\"in mes:\n",
    "        ask=input(\"使用溫度計？利率計算？\")\n",
    "        if \"溫度計\" in ask:\n",
    "            tool_1()\n",
    "        elif \"利率\"in ask:\n",
    "            ask2=input(\"1.期末還本金＋利息?\\n2.每期還本金加利息?\")\n",
    "            if \"1\"in ask2:\n",
    "                tool_2()\n",
    "            elif \"2\" in ask2:\n",
    "                tool_3()\n",
    "    else:\n",
    "        pick=np.random.randint(0,len(text))    \n",
    "        print(text[pick]) \n",
    "        \n",
    "    \n",
    "        \n",
    "    "
   ]
  },
  {
   "cell_type": "code",
   "execution_count": 40,
   "metadata": {},
   "outputs": [
    {
     "name": "stdout",
     "output_type": "stream",
     "text": [
      "想看什麼影片呢？蔡阿嘎\n",
      "\n",
      "以下為替你在YouTube上找到的影片：\n",
      "【蔡阿嘎新手爸媽日記#48】蔡桃貴、蔡波能 一家四口上雜誌封面啦！\n",
      "https://www.youtube.com/watch?v=rZlfPB9v0kE\n",
      "\n"
     ]
    },
    {
     "data": {
      "text/plain": [
       "True"
      ]
     },
     "execution_count": 40,
     "metadata": {},
     "output_type": "execute_result"
    }
   ],
   "source": [
    "term=input(\"想看什麼影片呢？\")\n",
    "request = requests.get(f\"https://www.youtube.com/results?search_query={term}\")\n",
    "content = request.content\n",
    "soup = BeautifulSoup(content, \"html.parser\")\n",
    "print(\"\\n以下為替你在YouTube上找到的影片：\")\n",
    "data = soup.select_one(\"a[rel='spf-prefetch']\")\n",
    "print(data.get(\"title\"))\n",
    "print(\"https://www.youtube.com{}\\n\".format(data.get(\"href\")))\n",
    "webbrowser.open(\"https://www.youtube.com{}\\n\".format(data.get(\"href\")))# Webbrowser可直接開啟網頁播放影片"
   ]
  },
  {
   "cell_type": "code",
   "execution_count": null,
   "metadata": {},
   "outputs": [],
   "source": []
  }
 ],
 "metadata": {
  "kernelspec": {
   "display_name": "Python 3",
   "language": "python",
   "name": "python3"
  },
  "language_info": {
   "codemirror_mode": {
    "name": "ipython",
    "version": 3
   },
   "file_extension": ".py",
   "mimetype": "text/x-python",
   "name": "python",
   "nbconvert_exporter": "python",
   "pygments_lexer": "ipython3",
   "version": "3.7.3"
  }
 },
 "nbformat": 4,
 "nbformat_minor": 2
}
