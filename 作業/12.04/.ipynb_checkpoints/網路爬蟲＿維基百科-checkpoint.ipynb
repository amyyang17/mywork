{
 "cells": [
  {
   "cell_type": "code",
   "execution_count": 6,
   "metadata": {},
   "outputs": [],
   "source": [
    "from bs4 import BeautifulSoup\n",
    "import requests"
   ]
  },
  {
   "cell_type": "code",
   "execution_count": 8,
   "metadata": {},
   "outputs": [],
   "source": [
    "res=requests.get(\"https://zh.wikipedia.org/wiki/%E5%9C%8B%E7%AB%8B%E6%94%BF%E6%B2%BB%E5%A4%A7%E5%AD%B8\")"
   ]
  },
  {
   "cell_type": "code",
   "execution_count": 20,
   "metadata": {},
   "outputs": [],
   "source": [
    "soup=BeautifulSoup(res.text,'lxml')"
   ]
  },
  {
   "cell_type": "code",
   "execution_count": 28,
   "metadata": {},
   "outputs": [],
   "source": [
    "content=soup.select_one(\"div.mw-parser-output p\").text"
   ]
  },
  {
   "cell_type": "code",
   "execution_count": 29,
   "metadata": {},
   "outputs": [
    {
     "data": {
      "text/plain": [
       "'國立政治大學，簡稱政大，1927年建校於江蘇南京市，1954年由行政院核定，復校於臺灣臺北市，為中華民國首間在臺復校的國立大學。創校任務為負責培養國家政治、管理及法學人才[註 2]的中央院校之一[16]，其後發展為臺灣地區人文學科及社會科學領域為主的國立大學，也成為亞洲及太平洋地區重要智庫之一。[17][18][19]\\n'"
      ]
     },
     "execution_count": 29,
     "metadata": {},
     "output_type": "execute_result"
    }
   ],
   "source": [
    "content"
   ]
  },
  {
   "cell_type": "code",
   "execution_count": 30,
   "metadata": {},
   "outputs": [],
   "source": [
    "def search(term):\n",
    "    res=requests.get(f\"https://zh.wikipedia.org/wiki/{term}\")\n",
    "    soup=BeautifulSoup(res.text)\n",
    "    content=soup.select_one(\"div.mw-parser-output p\").text\n",
    "    return content"
   ]
  },
  {
   "cell_type": "code",
   "execution_count": 37,
   "metadata": {},
   "outputs": [],
   "source": [
    "text=search(\"馬英九\")"
   ]
  },
  {
   "cell_type": "code",
   "execution_count": 46,
   "metadata": {},
   "outputs": [
    {
     "data": {
      "text/plain": [
       "'馬英九（1950年7月13日－），中華民國政治人物，曾任中華民國第12、13任總統、中国國民黨主席等職。生於英屬香港九龍油麻地，籍貫湖南省湘潭縣[3][註 1]，祖籍江西永新[5]，馬鶴凌和秦厚修之子，1952年隨雙親定居台灣台北市[4][6]。'"
      ]
     },
     "execution_count": 46,
     "metadata": {},
     "output_type": "execute_result"
    }
   ],
   "source": [
    "text.strip(\"\\n\")"
   ]
  },
  {
   "cell_type": "code",
   "execution_count": 49,
   "metadata": {},
   "outputs": [],
   "source": [
    "def searchmore(term):\n",
    "    res=requests.get(f\"https://zh.wikipedia.org/wiki/{term}\")\n",
    "    soup=BeautifulSoup(res.text)\n",
    "    content=soup.select(\"div.mw-parser-output p\").text\n",
    "    return content"
   ]
  },
  {
   "cell_type": "code",
   "execution_count": null,
   "metadata": {},
   "outputs": [],
   "source": []
  }
 ],
 "metadata": {
  "kernelspec": {
   "display_name": "Python 3",
   "language": "python",
   "name": "python3"
  },
  "language_info": {
   "codemirror_mode": {
    "name": "ipython",
    "version": 3
   },
   "file_extension": ".py",
   "mimetype": "text/x-python",
   "name": "python",
   "nbconvert_exporter": "python",
   "pygments_lexer": "ipython3",
   "version": "3.7.3"
  }
 },
 "nbformat": 4,
 "nbformat_minor": 2
}
