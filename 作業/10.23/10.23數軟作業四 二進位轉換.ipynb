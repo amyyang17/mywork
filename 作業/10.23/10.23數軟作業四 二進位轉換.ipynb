{
 "cells": [
  {
   "cell_type": "code",
   "execution_count": 2,
   "metadata": {},
   "outputs": [],
   "source": [
    "%matplotlib inline\n",
    "import pandas as pd\n",
    "import numpy as np\n",
    "import matplotlib.pyplot as plt"
   ]
  },
  {
   "cell_type": "code",
   "execution_count": 25,
   "metadata": {},
   "outputs": [
    {
     "name": "stdout",
     "output_type": "stream",
     "text": [
      "請輸入正整數：14\n",
      "轉換成二進位為：\n",
      "1 1 1 0\n"
     ]
    }
   ],
   "source": [
    "num=int(input(\"請輸入正整數：\"))\n",
    "A=[]\n",
    "while True:\n",
    "    a=num%2\n",
    "    num=num//2\n",
    "    A.append(a)\n",
    "    if num ==1 or num==0:\n",
    "        if num==1:\n",
    "            A.append(num)\n",
    "        break\n",
    "A.reverse()\n",
    "print(\"轉換成二進位為：\")\n",
    "print(\" \".join(str(i) for i in A))"
   ]
  }
 ],
 "metadata": {
  "kernelspec": {
   "display_name": "Python 3",
   "language": "python",
   "name": "python3"
  },
  "language_info": {
   "codemirror_mode": {
    "name": "ipython",
    "version": 3
   },
   "file_extension": ".py",
   "mimetype": "text/x-python",
   "name": "python",
   "nbconvert_exporter": "python",
   "pygments_lexer": "ipython3",
   "version": "3.7.3"
  }
 },
 "nbformat": 4,
 "nbformat_minor": 2
}
