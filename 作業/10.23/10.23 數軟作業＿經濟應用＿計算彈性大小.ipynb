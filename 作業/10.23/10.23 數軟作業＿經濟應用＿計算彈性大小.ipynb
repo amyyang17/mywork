{
 "cells": [
  {
   "cell_type": "code",
   "execution_count": 1,
   "metadata": {},
   "outputs": [],
   "source": [
    "%matplotlib inline\n",
    "import numpy as np\n",
    "import sympy as sp\n",
    "import matplotlib.pyplot as plt\n",
    "import pandas as pd\n",
    "from sympy.abc import v,r,h,p,x"
   ]
  },
  {
   "cell_type": "markdown",
   "metadata": {},
   "source": [
    "方程式\n",
    "$p=(-0.01x^2)-0.1x+6$"
   ]
  },
  {
   "cell_type": "code",
   "execution_count": 48,
   "metadata": {},
   "outputs": [],
   "source": [
    "p=(-0.01*x**2)-0.1*x+6"
   ]
  },
  {
   "cell_type": "code",
   "execution_count": 49,
   "metadata": {},
   "outputs": [
    {
     "name": "stdout",
     "output_type": "stream",
     "text": [
      "請輸入數量：15\n",
      "當數量為15時\n",
      "價格為2\n",
      "彈性為0.38\n"
     ]
    }
   ],
   "source": [
    "n=int(input(\"請輸入數量：\"))\n",
    "P=p.evalf(subs ={x:n})\n",
    "dp=sp.diff(p,x)\n",
    "Ed=-(P/(n*(dp.evalf(subs={x:n}))))\n",
    "print(f\"當數量為{n}時\\n價格為{P:.0f}\\n彈性為{Ed:.2f}\")"
   ]
  },
  {
   "cell_type": "markdown",
   "metadata": {},
   "source": [
    "## 客製的方程式\n",
    "請用以下的格式填寫\n",
    "\n",
    "$p=ax^2+bx=c$"
   ]
  },
  {
   "cell_type": "code",
   "execution_count": 51,
   "metadata": {},
   "outputs": [
    {
     "name": "stdout",
     "output_type": "stream",
     "text": [
      "a=-0.01\n",
      "b=-0.1\n",
      "c=6\n",
      "請輸入數量：10\n",
      "當數量為10時\n",
      "價格為4\n",
      "彈性為1.33\n"
     ]
    }
   ],
   "source": [
    "a=float(input(\"a=\"))\n",
    "b=float(input(\"b=\"))\n",
    "c=float(input(\"c=\"))\n",
    "p=a*x**2+b*x+c\n",
    "n=int(input(\"請輸入數量：\"))\n",
    "P=p.evalf(subs ={x:n})\n",
    "dp=sp.diff(p,x)\n",
    "Ed=-(P/(n*(dp.evalf(subs={x:n}))))\n",
    "print(f\"當數量為{n}時\\n價格為{P:.0f}\\n彈性為{Ed:.2f}\")"
   ]
  },
  {
   "cell_type": "code",
   "execution_count": null,
   "metadata": {},
   "outputs": [],
   "source": []
  }
 ],
 "metadata": {
  "kernelspec": {
   "display_name": "Python 3",
   "language": "python",
   "name": "python3"
  },
  "language_info": {
   "codemirror_mode": {
    "name": "ipython",
    "version": 3
   },
   "file_extension": ".py",
   "mimetype": "text/x-python",
   "name": "python",
   "nbconvert_exporter": "python",
   "pygments_lexer": "ipython3",
   "version": "3.7.3"
  }
 },
 "nbformat": 4,
 "nbformat_minor": 2
}
