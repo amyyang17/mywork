{
 "cells": [
  {
   "cell_type": "code",
   "execution_count": 3,
   "metadata": {},
   "outputs": [],
   "source": [
    "%matplotlib inline\n",
    "import numpy as np\n",
    "import sympy as sp\n",
    "import pandas as pd\n",
    "import matplotlib.pyplot as plt\n",
    "from sympy.abc import *\n",
    "from ipywidgets import *"
   ]
  },
  {
   "cell_type": "code",
   "execution_count": 9,
   "metadata": {},
   "outputs": [],
   "source": [
    "import twstock as tw"
   ]
  },
  {
   "cell_type": "code",
   "execution_count": 26,
   "metadata": {},
   "outputs": [],
   "source": [
    "def p(choose):\n",
    "    if choose==\"開盤價\":\n",
    "        x='open'\n",
    "    elif choose==\"收盤價\":\n",
    "        x= 'open'\n",
    "    elif choose==\"最高價\":\n",
    "        x='high'\n",
    "    elif choose==\"最低價\":\n",
    "        x= 'low'\n",
    "    return x"
   ]
  },
  {
   "cell_type": "code",
   "execution_count": 28,
   "metadata": {},
   "outputs": [
    {
     "data": {
      "application/vnd.jupyter.widget-view+json": {
       "model_id": "7f69e591c1b74c519885362d8c01f05f",
       "version_major": 2,
       "version_minor": 0
      },
      "text/plain": [
       "interactive(children=(Dropdown(description='choose', options=('開盤價', '收盤價', '最高價', '最低價'), value='開盤價'), Butto…"
      ]
     },
     "metadata": {},
     "output_type": "display_data"
    },
    {
     "data": {
      "text/plain": [
       "<function __main__.p(choose)>"
      ]
     },
     "execution_count": 28,
     "metadata": {},
     "output_type": "execute_result"
    }
   ],
   "source": [
    "interact_manual(p,choose=[\"開盤價\",\"收盤價\",\"最高價\",\"最低價\"])"
   ]
  },
  {
   "cell_type": "code",
   "execution_count": 35,
   "metadata": {},
   "outputs": [
    {
     "name": "stdout",
     "output_type": "stream",
     "text": [
      "請輸入股票代碼3293\n",
      "請問選擇何種價格？\n",
      "1 開盤價\n",
      "2 收盤價\n",
      "3 最高價\n",
      "4 最低價\n",
      "4\n",
      "今日最低價格380.0\n",
      "請輸入當初購買金額300\n",
      "\u001b[31m賣出報酬率為26.67%\u001b[0m\n",
      "請輸入當初購買金額0\n"
     ]
    }
   ],
   "source": [
    "code=(input(\"請輸入股票代碼\"))\n",
    "stock=tw.Stock(code)\n",
    "stock_real=tw.realtime.get(code)\n",
    "choose=input(\"請問選擇何種價格？\\n1 開盤價\\n2 收盤價\\n3 最高價\\n4 最低價\\n\")\n",
    "if choose=='1':\n",
    "    x='open'\n",
    "    y='開盤'\n",
    "elif choose=='2':\n",
    "    x='latest_trade_price'\n",
    "    y='收盤'\n",
    "elif choose=='3':\n",
    "    x='high'\n",
    "    y='最高'\n",
    "elif choose =='4':\n",
    "    x='low'\n",
    "    y='最低'\n",
    "open_price=float(stock_real['realtime'][x])\n",
    "print(f\"今日{y}價格{open_price}\")\n",
    "while True:\n",
    "    buy=float(input(\"請輸入當初購買金額\"))\n",
    "    if buy==0:\n",
    "        break\n",
    "    earn=((open_price-buy)/buy)*100\n",
    "    print(f\"\\033[31m賣出報酬率為{earn:.2f}%\\033[0m\")"
   ]
  }
 ],
 "metadata": {
  "kernelspec": {
   "display_name": "Python 3",
   "language": "python",
   "name": "python3"
  },
  "language_info": {
   "codemirror_mode": {
    "name": "ipython",
    "version": 3
   },
   "file_extension": ".py",
   "mimetype": "text/x-python",
   "name": "python",
   "nbconvert_exporter": "python",
   "pygments_lexer": "ipython3",
   "version": "3.7.3"
  }
 },
 "nbformat": 4,
 "nbformat_minor": 2
}
