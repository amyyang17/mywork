{
 "cells": [
  {
   "cell_type": "code",
   "execution_count": 2,
   "metadata": {},
   "outputs": [],
   "source": [
    "%matplotlib inline\n",
    "import numpy as np\n",
    "import sympy as sp\n",
    "import pandas as pd\n",
    "import matplotlib.pyplot as plt\n",
    "from sympy.abc import *\n",
    "from ipywidgets import *"
   ]
  },
  {
   "cell_type": "code",
   "execution_count": 3,
   "metadata": {},
   "outputs": [],
   "source": [
    "import twstock as tw"
   ]
  },
  {
   "cell_type": "code",
   "execution_count": 7,
   "metadata": {},
   "outputs": [
    {
     "name": "stdout",
     "output_type": "stream",
     "text": [
      "請輸入股票代碼3293\n",
      "請選擇何種價格？\n",
      "1 開盤價\n",
      "2 收盤價\n",
      "3 最高價\n",
      "4 最低價\n",
      "1\n",
      "今日鈊象開盤價格385.5\n",
      "請輸入當初購買金額200\n",
      "\u001b[31m賣出報酬率為92.75%\u001b[0m\n",
      "請輸入當初購買金額280\n",
      "\u001b[31m賣出報酬率為37.68%\u001b[0m\n",
      "請輸入當初購買金額300\n",
      "\u001b[31m賣出報酬率為28.50%\u001b[0m\n",
      "請輸入當初購買金額0\n"
     ]
    }
   ],
   "source": [
    "code=(input(\"請輸入股票代碼\"))\n",
    "stock=tw.Stock(code)\n",
    "stock_real=tw.realtime.get(code)\n",
    "stock_name=stock_real['info']['name']\n",
    "choose=input(\"請選擇何種價格？\\n1 開盤價\\n2 收盤價\\n3 最高價\\n4 最低價\\n\")\n",
    "if choose=='1':\n",
    "    x='open'\n",
    "    y='開盤'\n",
    "elif choose=='2':\n",
    "    x='latest_trade_price'\n",
    "    y='收盤'\n",
    "elif choose=='3':\n",
    "    x='high'\n",
    "    y='最高'\n",
    "elif choose =='4':\n",
    "    x='low'\n",
    "    y='最低'\n",
    "open_price=float(stock_real['realtime'][x])\n",
    "print(f\"今日{stock_name}{y}價格{open_price}\")\n",
    "while True:\n",
    "    buy=float(input(\"請輸入當初購買金額\"))\n",
    "    if buy==0:\n",
    "        break\n",
    "    earn=((open_price-buy)/buy)*100\n",
    "    print(f\"\\033[31m賣出報酬率為{earn:.2f}%\\033[0m\")"
   ]
  },
  {
   "cell_type": "code",
   "execution_count": null,
   "metadata": {},
   "outputs": [],
   "source": []
  },
  {
   "cell_type": "code",
   "execution_count": null,
   "metadata": {},
   "outputs": [],
   "source": []
  }
 ],
 "metadata": {
  "kernelspec": {
   "display_name": "Python 3",
   "language": "python",
   "name": "python3"
  },
  "language_info": {
   "codemirror_mode": {
    "name": "ipython",
    "version": 3
   },
   "file_extension": ".py",
   "mimetype": "text/x-python",
   "name": "python",
   "nbconvert_exporter": "python",
   "pygments_lexer": "ipython3",
   "version": "3.7.3"
  }
 },
 "nbformat": 4,
 "nbformat_minor": 2
}
