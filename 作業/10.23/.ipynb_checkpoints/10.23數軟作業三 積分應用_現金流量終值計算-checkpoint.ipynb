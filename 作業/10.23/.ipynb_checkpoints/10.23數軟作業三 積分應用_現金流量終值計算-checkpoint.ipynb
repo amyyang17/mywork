{
 "cells": [
  {
   "cell_type": "code",
   "execution_count": 2,
   "metadata": {},
   "outputs": [],
   "source": [
    "%matplotlib inline\n",
    "import pandas as pd\n",
    "import numpy as np\n",
    "import sympy as sp\n",
    "import matplotlib.pyplot as plt\n",
    "from sympy.abc import x,y,z,t,r,p\n",
    "\n"
   ]
  },
  {
   "cell_type": "markdown",
   "metadata": {},
   "source": [
    "# 求連續複利下的現金流量終值"
   ]
  },
  {
   "cell_type": "code",
   "execution_count": 18,
   "metadata": {},
   "outputs": [
    {
     "name": "stdout",
     "output_type": "stream",
     "text": [
      "請輸入本金：100\n",
      "請輸入年利率：10%\n",
      "請輸入時間(年)：10\n",
      "在10年間的現金流量終值為1718.28\n",
      "期末到期時可拿回271.83\n"
     ]
    }
   ],
   "source": [
    "p=int(input(\"請輸入本金：\"))\n",
    "r=input(\"請輸入年利率：\")\n",
    "if '%'in r :\n",
    "    r=r.rstrip(\"%\")\n",
    "    r=float(r)/100\n",
    "else:\n",
    "    r=float(r)\n",
    "t=float(input(\"請輸入時間(年)：\"))\n",
    "g=p*(sp.exp(r*(t-x)))\n",
    "fv=sp.integrate(g,(x,0,t))\n",
    "last=p*(sp.exp(r*(t)))\n",
    "print(f\"在{t:.0f}年間的現金流量終值為{fv:.2f}\\n期末到期時可拿回{last:.2f}\")"
   ]
  }
 ],
 "metadata": {
  "kernelspec": {
   "display_name": "Python 3",
   "language": "python",
   "name": "python3"
  },
  "language_info": {
   "codemirror_mode": {
    "name": "ipython",
    "version": 3
   },
   "file_extension": ".py",
   "mimetype": "text/x-python",
   "name": "python",
   "nbconvert_exporter": "python",
   "pygments_lexer": "ipython3",
   "version": "3.7.3"
  }
 },
 "nbformat": 4,
 "nbformat_minor": 2
}
