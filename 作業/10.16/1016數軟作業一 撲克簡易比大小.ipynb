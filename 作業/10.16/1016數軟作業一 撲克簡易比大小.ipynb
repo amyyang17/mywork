{
 "cells": [
  {
   "cell_type": "code",
   "execution_count": 99,
   "metadata": {},
   "outputs": [],
   "source": [
    "%matplotlib inline\n",
    "import pandas as pd\n",
    "import numpy as np\n",
    "import matplotlib.pyplot as plt\n",
    "import random\n",
    "from ipywidgets import interact_manual,Button,Layout, Box, HBox,VBox\n",
    "from time import sleep\n",
    "from IPython.display import display,Image"
   ]
  },
  {
   "cell_type": "code",
   "execution_count": 8,
   "metadata": {},
   "outputs": [],
   "source": [
    "class Card:\n",
    "    suits=[\"♣︎\",\"♦︎\",\"♥︎\",\"♠︎\"]\n",
    "    ranks=['A', '2', '3', '4', '5', '6', '7', '8', '9','10', 'J', 'Q', 'K']\n",
    "    \n",
    "    def __init__(self,s,r):\n",
    "        self.suit=s\n",
    "        self.rank=r\n",
    "        \n",
    "    def __repr__(self):\n",
    "        thecard=self.suits[self.suit]+self.ranks[self.rank]\n",
    "        return thecard"
   ]
  },
  {
   "cell_type": "code",
   "execution_count": 9,
   "metadata": {},
   "outputs": [],
   "source": [
    "poker=[]\n",
    "for i in range(4):\n",
    "    for j in range(13):\n",
    "        poker.append(Card(i,j))"
   ]
  },
  {
   "cell_type": "code",
   "execution_count": 10,
   "metadata": {},
   "outputs": [],
   "source": [
    "def add(a):\n",
    "    random.randint(0,51,a)"
   ]
  },
  {
   "cell_type": "code",
   "execution_count": 93,
   "metadata": {},
   "outputs": [],
   "source": [
    "def win():\n",
    "    x=np.random.randint(0,52,2)\n",
    "    print(f\"你抽到了{poker[x[1]]}\")\n",
    "    print(f\"電腦抽到了{poker[x[0]]}\")\n",
    "    point1=x[0]%13\n",
    "    point2=x[1]%13\n",
    "    if point1==point2:\n",
    "        print(\"平手呀！\")\n",
    "    elif point1>point2:\n",
    "        print(\"電腦獲勝\")\n",
    "    else:\n",
    "        print(\"你贏了！\")"
   ]
  },
  {
   "cell_type": "code",
   "execution_count": 94,
   "metadata": {},
   "outputs": [],
   "source": [
    "def game():\n",
    "   \n",
    "    button1=Button(description=\"抽牌\")\n",
    "    display(button1)\n",
    "    def on_button_clicked(a):\n",
    "        win()\n",
    "        again()\n",
    "    button1.on_click(on_button_clicked)"
   ]
  },
  {
   "cell_type": "code",
   "execution_count": 95,
   "metadata": {},
   "outputs": [],
   "source": [
    "def again():\n",
    "    button2=Button(description=\"再來一次\")\n",
    "    display(button2)\n",
    "    def on_button_clicked(a):\n",
    "        game()\n",
    "    button2.on_click(on_button_clicked)"
   ]
  },
  {
   "cell_type": "code",
   "execution_count": 98,
   "metadata": {},
   "outputs": [
    {
     "data": {
      "application/vnd.jupyter.widget-view+json": {
       "model_id": "0a5a3af91d0348c483d4983a10843afe",
       "version_major": 2,
       "version_minor": 0
      },
      "text/plain": [
       "Button(description='抽牌', style=ButtonStyle())"
      ]
     },
     "metadata": {},
     "output_type": "display_data"
    },
    {
     "name": "stdout",
     "output_type": "stream",
     "text": [
      "你抽到了♥︎4\n",
      "電腦抽到了♦︎A\n",
      "你贏了！\n"
     ]
    },
    {
     "data": {
      "application/vnd.jupyter.widget-view+json": {
       "model_id": "855fae7968734e7c86ca78edc56d6287",
       "version_major": 2,
       "version_minor": 0
      },
      "text/plain": [
       "Button(description='再來一次', style=ButtonStyle())"
      ]
     },
     "metadata": {},
     "output_type": "display_data"
    },
    {
     "data": {
      "application/vnd.jupyter.widget-view+json": {
       "model_id": "7c4c7e12b6a844359f5c219b3fc1b0ad",
       "version_major": 2,
       "version_minor": 0
      },
      "text/plain": [
       "Button(description='抽牌', style=ButtonStyle())"
      ]
     },
     "metadata": {},
     "output_type": "display_data"
    },
    {
     "name": "stdout",
     "output_type": "stream",
     "text": [
      "你抽到了♠︎7\n",
      "電腦抽到了♥︎J\n",
      "電腦獲勝\n"
     ]
    },
    {
     "data": {
      "application/vnd.jupyter.widget-view+json": {
       "model_id": "555fa7e5901c4983adfcd04a24030e75",
       "version_major": 2,
       "version_minor": 0
      },
      "text/plain": [
       "Button(description='再來一次', style=ButtonStyle())"
      ]
     },
     "metadata": {},
     "output_type": "display_data"
    }
   ],
   "source": [
    "game()"
   ]
  }
 ],
 "metadata": {
  "kernelspec": {
   "display_name": "Python 3",
   "language": "python",
   "name": "python3"
  },
  "language_info": {
   "codemirror_mode": {
    "name": "ipython",
    "version": 3
   },
   "file_extension": ".py",
   "mimetype": "text/x-python",
   "name": "python",
   "nbconvert_exporter": "python",
   "pygments_lexer": "ipython3",
   "version": "3.7.3"
  }
 },
 "nbformat": 4,
 "nbformat_minor": 2
}
