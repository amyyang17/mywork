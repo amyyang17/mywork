{
 "cells": [
  {
   "cell_type": "code",
   "execution_count": 135,
   "metadata": {},
   "outputs": [],
   "source": [
    "%matplotlib inline\n",
    "import numpy as np\n",
    "import pandas as pd\n",
    "import matplotlib.pyplot as plt\n",
    "from ipywidgets import interact_manual,Button\n",
    "from IPython.display import display"
   ]
  },
  {
   "cell_type": "code",
   "execution_count": 115,
   "metadata": {},
   "outputs": [],
   "source": [
    "dic={'A':'·-','B':'-···','C':'-·-·','D':'-··','E':'·','F':'··-·','G':'--·',\n",
    "      'H':'····','I':'··','J':'·---','K':'-·-','L':'-··','M':'--','N':'-·',\n",
    "      'O':'---','P':'·--·','Q':'--·-','R':'·-·','S':'···','T':'-','U':'··-',\n",
    "      'V':'···-','W':'·--','X':'-··-','Y':'-·--','Z':'--··',\n",
    "    '1':'·----','2':'··---','3':'···--','4':'····-','5':'·····','6':'-····','7':'--···','8':'---··','9':'----·','0':'-----'}"
   ]
  },
  {
   "cell_type": "code",
   "execution_count": 116,
   "metadata": {},
   "outputs": [],
   "source": [
    "new_dic= {v : k for k, v in dic.items()}\n",
    "new_dic['']=' '"
   ]
  },
  {
   "cell_type": "code",
   "execution_count": 163,
   "metadata": {},
   "outputs": [],
   "source": [
    "def word2mos():\n",
    "    word=str(input(\"請輸入英文單字或數字\"))\n",
    "    wordlist=list(word.upper())\n",
    "    mos=\"\"\n",
    "    for i in wordlist :\n",
    "        mos=mos+(dic[i])+\" \"\n",
    "    print(mos)"
   ]
  },
  {
   "cell_type": "code",
   "execution_count": 164,
   "metadata": {},
   "outputs": [],
   "source": [
    "def mos2word():\n",
    "    password=str(input(\"請輸入摩斯密碼：\"))\n",
    "    passwordlist=list(password.rsplit(' '))\n",
    "    transword=\"\"\n",
    "    for j in passwordlist:\n",
    "        transword=transword+new_dic[j]\n",
    "    print(transword)"
   ]
  },
  {
   "cell_type": "code",
   "execution_count": 165,
   "metadata": {},
   "outputs": [
    {
     "name": "stdout",
     "output_type": "stream",
     "text": [
      "請問要哪種轉換方式\n",
      "a摩斯密碼轉換英文 \n",
      "b英文、數字轉換成摩斯密碼\n",
      "a\n",
      "請輸入英文單字或數字love\n",
      "-·· --- ···- · \n"
     ]
    }
   ],
   "source": [
    "choose=input('''請問要哪種轉換方式\n",
    "a摩斯密碼轉換英文 \n",
    "b英文、數字轉換成摩斯密碼\\n''')\n",
    "if choose=='b':\n",
    "    mos2word()\n",
    "else:\n",
    "    word2mos()"
   ]
  }
 ],
 "metadata": {
  "kernelspec": {
   "display_name": "Python 3",
   "language": "python",
   "name": "python3"
  },
  "language_info": {
   "codemirror_mode": {
    "name": "ipython",
    "version": 3
   },
   "file_extension": ".py",
   "mimetype": "text/x-python",
   "name": "python",
   "nbconvert_exporter": "python",
   "pygments_lexer": "ipython3",
   "version": "3.7.3"
  }
 },
 "nbformat": 4,
 "nbformat_minor": 2
}
