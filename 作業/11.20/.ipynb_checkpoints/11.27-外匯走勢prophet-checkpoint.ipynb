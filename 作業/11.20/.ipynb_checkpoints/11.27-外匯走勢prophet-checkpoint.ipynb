{
 "cells": [
  {
   "cell_type": "code",
   "execution_count": 1,
   "metadata": {},
   "outputs": [],
   "source": [
    "%matplotlib inline \n",
    "import numpy as np\n",
    "import pandas as pd\n",
    "import matplotlib.pyplot as plt"
   ]
  },
  {
   "cell_type": "markdown",
   "metadata": {},
   "source": [
    "# 程式介紹_利用prophrt預測外匯近一個月走勢\n",
    "⚠️可改進部分：可能因為數據過少無法表現出匯率的波動，導致預測結果圖形不如預期\n",
    "利用政府公開資訊網來看外匯的預測是否準確"
   ]
  },
  {
   "cell_type": "markdown",
   "metadata": {},
   "source": [
    "## 讀入資料"
   ]
  },
  {
   "cell_type": "code",
   "execution_count": 2,
   "metadata": {},
   "outputs": [],
   "source": [
    "df=pd.read_csv(\"https://quality.data.gov.tw/dq_download_csv.php?nid=11339&md5_url=f2fdbc21603c55b11aead08c84184b8f\")"
   ]
  },
  {
   "cell_type": "code",
   "execution_count": 3,
   "metadata": {},
   "outputs": [
    {
     "data": {
      "text/plain": [
       "Index(['日期', '美元／新台幣', '人民幣／新台幣', '歐元／美元', '美元／日幣', '英鎊／美元', '澳幣／美元', '美元／港幣',\n",
       "       '美元／人民幣', '美元／南非幣', '紐幣／美元'],\n",
       "      dtype='object')"
      ]
     },
     "execution_count": 3,
     "metadata": {},
     "output_type": "execute_result"
    }
   ],
   "source": [
    "df.columns"
   ]
  },
  {
   "cell_type": "code",
   "execution_count": 4,
   "metadata": {},
   "outputs": [
    {
     "data": {
      "text/plain": [
       "<matplotlib.axes._subplots.AxesSubplot at 0x11e39fc50>"
      ]
     },
     "execution_count": 4,
     "metadata": {},
     "output_type": "execute_result"
    },
    {
     "data": {
      "image/png": "[encoded data removed]",
      "text/plain": [
       "<Figure size 432x288 with 1 Axes>"
      ]
     },
     "metadata": {
      "needs_background": "light"
     },
     "output_type": "display_data"
    }
   ],
   "source": [
    "df['美元／新台幣'].plot()"
   ]
  },
  {
   "cell_type": "code",
   "execution_count": 5,
   "metadata": {},
   "outputs": [
    {
     "data": {
      "text/html": [
       "<div>\n",
       "<style scoped>\n",
       "    .dataframe tbody tr th:only-of-type {\n",
       "        vertical-align: middle;\n",
       "    }\n",
       "\n",
       "    .dataframe tbody tr th {\n",
       "        vertical-align: top;\n",
       "    }\n",
       "\n",
       "    .dataframe thead th {\n",
       "        text-align: right;\n",
       "    }\n",
       "</style>\n",
       "<table border=\"1\" class=\"dataframe\">\n",
       "  <thead>\n",
       "    <tr style=\"text-align: right;\">\n",
       "      <th></th>\n",
       "      <th>日期</th>\n",
       "      <th>美元／新台幣</th>\n",
       "      <th>人民幣／新台幣</th>\n",
       "      <th>歐元／美元</th>\n",
       "      <th>美元／日幣</th>\n",
       "      <th>英鎊／美元</th>\n",
       "      <th>澳幣／美元</th>\n",
       "      <th>美元／港幣</th>\n",
       "      <th>美元／人民幣</th>\n",
       "      <th>美元／南非幣</th>\n",
       "      <th>紐幣／美元</th>\n",
       "    </tr>\n",
       "  </thead>\n",
       "  <tbody>\n",
       "    <tr>\n",
       "      <th>0</th>\n",
       "      <td>2019/10/1</td>\n",
       "      <td>31.045</td>\n",
       "      <td>4.339594</td>\n",
       "      <td>1.08860</td>\n",
       "      <td>108.390</td>\n",
       "      <td>1.22810</td>\n",
       "      <td>0.66945</td>\n",
       "      <td>7.84145</td>\n",
       "      <td>7.1539</td>\n",
       "      <td>15.22970</td>\n",
       "      <td>0.62215</td>\n",
       "    </tr>\n",
       "    <tr>\n",
       "      <th>1</th>\n",
       "      <td>2019/10/2</td>\n",
       "      <td>31.063</td>\n",
       "      <td>4.342763</td>\n",
       "      <td>1.09135</td>\n",
       "      <td>107.715</td>\n",
       "      <td>1.22760</td>\n",
       "      <td>0.66950</td>\n",
       "      <td>7.84010</td>\n",
       "      <td>7.1528</td>\n",
       "      <td>15.38590</td>\n",
       "      <td>0.62440</td>\n",
       "    </tr>\n",
       "    <tr>\n",
       "      <th>2</th>\n",
       "      <td>2019/10/3</td>\n",
       "      <td>31.064</td>\n",
       "      <td>4.350451</td>\n",
       "      <td>1.09460</td>\n",
       "      <td>107.245</td>\n",
       "      <td>1.22910</td>\n",
       "      <td>0.67115</td>\n",
       "      <td>7.84200</td>\n",
       "      <td>7.1404</td>\n",
       "      <td>15.16705</td>\n",
       "      <td>0.62695</td>\n",
       "    </tr>\n",
       "    <tr>\n",
       "      <th>3</th>\n",
       "      <td>2019/10/4</td>\n",
       "      <td>30.973</td>\n",
       "      <td>4.345822</td>\n",
       "      <td>1.09710</td>\n",
       "      <td>106.775</td>\n",
       "      <td>1.23335</td>\n",
       "      <td>0.67545</td>\n",
       "      <td>7.84290</td>\n",
       "      <td>7.1271</td>\n",
       "      <td>15.16805</td>\n",
       "      <td>0.63220</td>\n",
       "    </tr>\n",
       "    <tr>\n",
       "      <th>4</th>\n",
       "      <td>2019/10/7</td>\n",
       "      <td>30.902</td>\n",
       "      <td>4.332924</td>\n",
       "      <td>1.09670</td>\n",
       "      <td>106.845</td>\n",
       "      <td>1.22970</td>\n",
       "      <td>0.67425</td>\n",
       "      <td>7.84415</td>\n",
       "      <td>7.1319</td>\n",
       "      <td>15.12810</td>\n",
       "      <td>0.63050</td>\n",
       "    </tr>\n",
       "  </tbody>\n",
       "</table>\n",
       "</div>"
      ],
      "text/plain": [
       "          日期  美元／新台幣   人民幣／新台幣    歐元／美元    美元／日幣    英鎊／美元    澳幣／美元    美元／港幣  \\\n",
       "0  2019/10/1  31.045  4.339594  1.08860  108.390  1.22810  0.66945  7.84145   \n",
       "1  2019/10/2  31.063  4.342763  1.09135  107.715  1.22760  0.66950  7.84010   \n",
       "2  2019/10/3  31.064  4.350451  1.09460  107.245  1.22910  0.67115  7.84200   \n",
       "3  2019/10/4  30.973  4.345822  1.09710  106.775  1.23335  0.67545  7.84290   \n",
       "4  2019/10/7  30.902  4.332924  1.09670  106.845  1.22970  0.67425  7.84415   \n",
       "\n",
       "   美元／人民幣    美元／南非幣    紐幣／美元  \n",
       "0  7.1539  15.22970  0.62215  \n",
       "1  7.1528  15.38590  0.62440  \n",
       "2  7.1404  15.16705  0.62695  \n",
       "3  7.1271  15.16805  0.63220  \n",
       "4  7.1319  15.12810  0.63050  "
      ]
     },
     "execution_count": 5,
     "metadata": {},
     "output_type": "execute_result"
    }
   ],
   "source": [
    "df.head()"
   ]
  },
  {
   "cell_type": "markdown",
   "metadata": {},
   "source": [
    "## 開始預測"
   ]
  },
  {
   "cell_type": "code",
   "execution_count": 6,
   "metadata": {},
   "outputs": [
    {
     "name": "stderr",
     "output_type": "stream",
     "text": [
      "ERROR:fbprophet:Importing plotly failed. Interactive plots will not work.\n"
     ]
    }
   ],
   "source": [
    "from fbprophet import Prophet"
   ]
  },
  {
   "cell_type": "code",
   "execution_count": 7,
   "metadata": {},
   "outputs": [],
   "source": [
    "model=Prophet(daily_seasonality=True)"
   ]
  },
  {
   "cell_type": "code",
   "execution_count": 8,
   "metadata": {},
   "outputs": [],
   "source": [
    "new_df=df[[\"日期\",\"美元／新台幣\"]]"
   ]
  },
  {
   "cell_type": "code",
   "execution_count": 9,
   "metadata": {},
   "outputs": [],
   "source": [
    "new_df.columns=[\"ds\",\"y\"]"
   ]
  },
  {
   "cell_type": "code",
   "execution_count": 10,
   "metadata": {},
   "outputs": [
    {
     "data": {
      "text/html": [
       "<div>\n",
       "<style scoped>\n",
       "    .dataframe tbody tr th:only-of-type {\n",
       "        vertical-align: middle;\n",
       "    }\n",
       "\n",
       "    .dataframe tbody tr th {\n",
       "        vertical-align: top;\n",
       "    }\n",
       "\n",
       "    .dataframe thead th {\n",
       "        text-align: right;\n",
       "    }\n",
       "</style>\n",
       "<table border=\"1\" class=\"dataframe\">\n",
       "  <thead>\n",
       "    <tr style=\"text-align: right;\">\n",
       "      <th></th>\n",
       "      <th>ds</th>\n",
       "      <th>y</th>\n",
       "    </tr>\n",
       "  </thead>\n",
       "  <tbody>\n",
       "    <tr>\n",
       "      <th>0</th>\n",
       "      <td>2019/10/1</td>\n",
       "      <td>31.045</td>\n",
       "    </tr>\n",
       "    <tr>\n",
       "      <th>1</th>\n",
       "      <td>2019/10/2</td>\n",
       "      <td>31.063</td>\n",
       "    </tr>\n",
       "    <tr>\n",
       "      <th>2</th>\n",
       "      <td>2019/10/3</td>\n",
       "      <td>31.064</td>\n",
       "    </tr>\n",
       "    <tr>\n",
       "      <th>3</th>\n",
       "      <td>2019/10/4</td>\n",
       "      <td>30.973</td>\n",
       "    </tr>\n",
       "    <tr>\n",
       "      <th>4</th>\n",
       "      <td>2019/10/7</td>\n",
       "      <td>30.902</td>\n",
       "    </tr>\n",
       "  </tbody>\n",
       "</table>\n",
       "</div>"
      ],
      "text/plain": [
       "          ds       y\n",
       "0  2019/10/1  31.045\n",
       "1  2019/10/2  31.063\n",
       "2  2019/10/3  31.064\n",
       "3  2019/10/4  30.973\n",
       "4  2019/10/7  30.902"
      ]
     },
     "execution_count": 10,
     "metadata": {},
     "output_type": "execute_result"
    }
   ],
   "source": [
    "new_df.head()"
   ]
  },
  {
   "cell_type": "code",
   "execution_count": 11,
   "metadata": {},
   "outputs": [
    {
     "name": "stderr",
     "output_type": "stream",
     "text": [
      "INFO:numexpr.utils:NumExpr defaulting to 4 threads.\n",
      "INFO:fbprophet:Disabling yearly seasonality. Run prophet with yearly_seasonality=True to override this.\n",
      "INFO:fbprophet:n_changepoints greater than number of observations.Using 24.\n"
     ]
    }
   ],
   "source": [
    "model.fit(new_df)\n",
    "future=model.make_future_dataframe(30)\n",
    "forecast=model.predict(future)"
   ]
  },
  {
   "cell_type": "code",
   "execution_count": 18,
   "metadata": {},
   "outputs": [
    {
     "data": {
      "image/png": "[encoded data removed]",
      "text/plain": [
       "<Figure size 720x432 with 1 Axes>"
      ]
     },
     "metadata": {},
     "output_type": "display_data"
    }
   ],
   "source": [
    "fig=model.plot(forecast)"
   ]
  }
 ],
 "metadata": {
  "kernelspec": {
   "display_name": "Python 3",
   "language": "python",
   "name": "python3"
  },
  "language_info": {
   "codemirror_mode": {
    "name": "ipython",
    "version": 3
   },
   "file_extension": ".py",
   "mimetype": "text/x-python",
   "name": "python",
   "nbconvert_exporter": "python",
   "pygments_lexer": "ipython3",
   "version": "3.7.3"
  }
 },
 "nbformat": 4,
 "nbformat_minor": 2
}
