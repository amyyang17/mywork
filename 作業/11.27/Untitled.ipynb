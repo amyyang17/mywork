{
 "cells": [
  {
   "cell_type": "code",
   "execution_count": 2,
   "metadata": {},
   "outputs": [],
   "source": [
    "%matplotlib inline\n",
    "import pandas as pd\n",
    "import matplotlib.pyplot as plt\n",
    "import numpy as np"
   ]
  },
  {
   "cell_type": "code",
   "execution_count": 3,
   "metadata": {},
   "outputs": [],
   "source": [
    "df=pd.read_csv(\"https://quality.data.gov.tw/dq_download_csv.php?nid=11764&md5_url=63da90da53affbda60bab24f31be3d59\")"
   ]
  },
  {
   "cell_type": "code",
   "execution_count": 4,
   "metadata": {},
   "outputs": [
    {
     "data": {
      "text/html": [
       "<div>\n",
       "<style scoped>\n",
       "    .dataframe tbody tr th:only-of-type {\n",
       "        vertical-align: middle;\n",
       "    }\n",
       "\n",
       "    .dataframe tbody tr th {\n",
       "        vertical-align: top;\n",
       "    }\n",
       "\n",
       "    .dataframe thead th {\n",
       "        text-align: right;\n",
       "    }\n",
       "</style>\n",
       "<table border=\"1\" class=\"dataframe\">\n",
       "  <thead>\n",
       "    <tr style=\"text-align: right;\">\n",
       "      <th></th>\n",
       "      <th>證券代號</th>\n",
       "      <th>證券名稱</th>\n",
       "      <th>殖利率(%)</th>\n",
       "      <th>股利年度</th>\n",
       "      <th>本益比</th>\n",
       "      <th>股價淨值比</th>\n",
       "      <th>財報年/季</th>\n",
       "    </tr>\n",
       "  </thead>\n",
       "  <tbody>\n",
       "    <tr>\n",
       "      <th>0</th>\n",
       "      <td>1101</td>\n",
       "      <td>台泥</td>\n",
       "      <td>9.62</td>\n",
       "      <td>107</td>\n",
       "      <td>10.27</td>\n",
       "      <td>1.28</td>\n",
       "      <td>108/3</td>\n",
       "    </tr>\n",
       "    <tr>\n",
       "      <th>1</th>\n",
       "      <td>1102</td>\n",
       "      <td>亞泥</td>\n",
       "      <td>6.26</td>\n",
       "      <td>107</td>\n",
       "      <td>9.86</td>\n",
       "      <td>1.05</td>\n",
       "      <td>108/3</td>\n",
       "    </tr>\n",
       "    <tr>\n",
       "      <th>2</th>\n",
       "      <td>1103</td>\n",
       "      <td>嘉泥</td>\n",
       "      <td>5.00</td>\n",
       "      <td>107</td>\n",
       "      <td>9.90</td>\n",
       "      <td>0.59</td>\n",
       "      <td>108/3</td>\n",
       "    </tr>\n",
       "    <tr>\n",
       "      <th>3</th>\n",
       "      <td>1104</td>\n",
       "      <td>環泥</td>\n",
       "      <td>5.29</td>\n",
       "      <td>107</td>\n",
       "      <td>12.35</td>\n",
       "      <td>0.70</td>\n",
       "      <td>108/3</td>\n",
       "    </tr>\n",
       "    <tr>\n",
       "      <th>4</th>\n",
       "      <td>1108</td>\n",
       "      <td>幸福</td>\n",
       "      <td>0.00</td>\n",
       "      <td>107</td>\n",
       "      <td>-</td>\n",
       "      <td>0.74</td>\n",
       "      <td>108/3</td>\n",
       "    </tr>\n",
       "  </tbody>\n",
       "</table>\n",
       "</div>"
      ],
      "text/plain": [
       "   證券代號 證券名稱  殖利率(%)  股利年度    本益比  股價淨值比  財報年/季\n",
       "0  1101   台泥    9.62   107  10.27   1.28  108/3\n",
       "1  1102   亞泥    6.26   107   9.86   1.05  108/3\n",
       "2  1103   嘉泥    5.00   107   9.90   0.59  108/3\n",
       "3  1104   環泥    5.29   107  12.35   0.70  108/3\n",
       "4  1108   幸福    0.00   107      -   0.74  108/3"
      ]
     },
     "execution_count": 4,
     "metadata": {},
     "output_type": "execute_result"
    }
   ],
   "source": [
    "df.head()"
   ]
  },
  {
   "cell_type": "code",
   "execution_count": 8,
   "metadata": {},
   "outputs": [
    {
     "name": "stdout",
     "output_type": "stream",
     "text": [
      "<class 'pandas.core.frame.DataFrame'>\n",
      "RangeIndex: 933 entries, 0 to 932\n",
      "Data columns (total 7 columns):\n",
      "證券代號      933 non-null int64\n",
      "證券名稱      933 non-null object\n",
      "殖利率(%)    933 non-null float64\n",
      "股利年度      933 non-null int64\n",
      "本益比       933 non-null object\n",
      "股價淨值比     933 non-null float64\n",
      "財報年/季     933 non-null object\n",
      "dtypes: float64(2), int64(2), object(3)\n",
      "memory usage: 51.1+ KB\n"
     ]
    }
   ],
   "source": [
    "df.info()"
   ]
  },
  {
   "cell_type": "code",
   "execution_count": 12,
   "metadata": {},
   "outputs": [],
   "source": [
    "df[\"證券代號\"]=df.證券代號.astype(str)"
   ]
  },
  {
   "cell_type": "code",
   "execution_count": 5,
   "metadata": {},
   "outputs": [],
   "source": [
    "ddf=pd.read_csv(\"https://quality.data.gov.tw/dq_download_csv.php?nid=11549&md5_url=bb878d47ffbe7b83bfc1b41d0b24946e\")"
   ]
  },
  {
   "cell_type": "code",
   "execution_count": 6,
   "metadata": {},
   "outputs": [
    {
     "data": {
      "text/html": [
       "<div>\n",
       "<style scoped>\n",
       "    .dataframe tbody tr th:only-of-type {\n",
       "        vertical-align: middle;\n",
       "    }\n",
       "\n",
       "    .dataframe tbody tr th {\n",
       "        vertical-align: top;\n",
       "    }\n",
       "\n",
       "    .dataframe thead th {\n",
       "        text-align: right;\n",
       "    }\n",
       "</style>\n",
       "<table border=\"1\" class=\"dataframe\">\n",
       "  <thead>\n",
       "    <tr style=\"text-align: right;\">\n",
       "      <th></th>\n",
       "      <th>證券代號</th>\n",
       "      <th>證券名稱</th>\n",
       "      <th>成交股數</th>\n",
       "      <th>成交金額</th>\n",
       "      <th>開盤價</th>\n",
       "      <th>最高價</th>\n",
       "      <th>最低價</th>\n",
       "      <th>收盤價</th>\n",
       "      <th>漲跌價差</th>\n",
       "      <th>成交筆數</th>\n",
       "    </tr>\n",
       "  </thead>\n",
       "  <tbody>\n",
       "    <tr>\n",
       "      <th>0</th>\n",
       "      <td>0050</td>\n",
       "      <td>元大台灣50</td>\n",
       "      <td>2,087,613</td>\n",
       "      <td>193,351,977</td>\n",
       "      <td>92.50</td>\n",
       "      <td>92.90</td>\n",
       "      <td>92.40</td>\n",
       "      <td>92.90</td>\n",
       "      <td>+0.60</td>\n",
       "      <td>1,586</td>\n",
       "    </tr>\n",
       "    <tr>\n",
       "      <th>1</th>\n",
       "      <td>0051</td>\n",
       "      <td>元大中型100</td>\n",
       "      <td>9,300</td>\n",
       "      <td>329,508</td>\n",
       "      <td>35.32</td>\n",
       "      <td>35.48</td>\n",
       "      <td>35.32</td>\n",
       "      <td>35.48</td>\n",
       "      <td>+0.18</td>\n",
       "      <td>15</td>\n",
       "    </tr>\n",
       "    <tr>\n",
       "      <th>2</th>\n",
       "      <td>0052</td>\n",
       "      <td>富邦科技</td>\n",
       "      <td>141,548</td>\n",
       "      <td>9,555,446</td>\n",
       "      <td>67.10</td>\n",
       "      <td>67.70</td>\n",
       "      <td>67.10</td>\n",
       "      <td>67.70</td>\n",
       "      <td>+0.60</td>\n",
       "      <td>44</td>\n",
       "    </tr>\n",
       "    <tr>\n",
       "      <th>3</th>\n",
       "      <td>0053</td>\n",
       "      <td>元大電子</td>\n",
       "      <td>19,070</td>\n",
       "      <td>788,438</td>\n",
       "      <td>41.26</td>\n",
       "      <td>41.59</td>\n",
       "      <td>41.26</td>\n",
       "      <td>41.48</td>\n",
       "      <td>+0.24</td>\n",
       "      <td>17</td>\n",
       "    </tr>\n",
       "    <tr>\n",
       "      <th>4</th>\n",
       "      <td>0054</td>\n",
       "      <td>元大台商50</td>\n",
       "      <td>2,000</td>\n",
       "      <td>49,550</td>\n",
       "      <td>24.74</td>\n",
       "      <td>24.81</td>\n",
       "      <td>24.74</td>\n",
       "      <td>24.81</td>\n",
       "      <td>+0.11</td>\n",
       "      <td>2</td>\n",
       "    </tr>\n",
       "  </tbody>\n",
       "</table>\n",
       "</div>"
      ],
      "text/plain": [
       "   證券代號     證券名稱       成交股數         成交金額    開盤價    最高價    最低價    收盤價   漲跌價差  \\\n",
       "0  0050   元大台灣50  2,087,613  193,351,977  92.50  92.90  92.40  92.90  +0.60   \n",
       "1  0051  元大中型100      9,300      329,508  35.32  35.48  35.32  35.48  +0.18   \n",
       "2  0052     富邦科技    141,548    9,555,446  67.10  67.70  67.10  67.70  +0.60   \n",
       "3  0053     元大電子     19,070      788,438  41.26  41.59  41.26  41.48  +0.24   \n",
       "4  0054   元大台商50      2,000       49,550  24.74  24.81  24.74  24.81  +0.11   \n",
       "\n",
       "    成交筆數  \n",
       "0  1,586  \n",
       "1     15  \n",
       "2     44  \n",
       "3     17  \n",
       "4      2  "
      ]
     },
     "execution_count": 6,
     "metadata": {},
     "output_type": "execute_result"
    }
   ],
   "source": [
    "ddf.head()"
   ]
  },
  {
   "cell_type": "code",
   "execution_count": 14,
   "metadata": {},
   "outputs": [],
   "source": [
    "df_price=ddf[[\"證券代號\",\"收盤價\"]]"
   ]
  },
  {
   "cell_type": "code",
   "execution_count": 15,
   "metadata": {},
   "outputs": [],
   "source": [
    "df_merge=df.merge(df_price,left_on=(\"證券代號\"),right_on=(\"證券代號\"))"
   ]
  },
  {
   "cell_type": "code",
   "execution_count": 18,
   "metadata": {},
   "outputs": [
    {
     "data": {
      "text/html": [
       "<div>\n",
       "<style scoped>\n",
       "    .dataframe tbody tr th:only-of-type {\n",
       "        vertical-align: middle;\n",
       "    }\n",
       "\n",
       "    .dataframe tbody tr th {\n",
       "        vertical-align: top;\n",
       "    }\n",
       "\n",
       "    .dataframe thead th {\n",
       "        text-align: right;\n",
       "    }\n",
       "</style>\n",
       "<table border=\"1\" class=\"dataframe\">\n",
       "  <thead>\n",
       "    <tr style=\"text-align: right;\">\n",
       "      <th></th>\n",
       "      <th>證券代號</th>\n",
       "      <th>證券名稱</th>\n",
       "      <th>殖利率(%)</th>\n",
       "      <th>股利年度</th>\n",
       "      <th>本益比</th>\n",
       "      <th>股價淨值比</th>\n",
       "      <th>財報年/季</th>\n",
       "      <th>收盤價</th>\n",
       "    </tr>\n",
       "  </thead>\n",
       "  <tbody>\n",
       "    <tr>\n",
       "      <th>0</th>\n",
       "      <td>1101</td>\n",
       "      <td>台泥</td>\n",
       "      <td>9.62</td>\n",
       "      <td>107</td>\n",
       "      <td>10.27</td>\n",
       "      <td>1.28</td>\n",
       "      <td>108/3</td>\n",
       "      <td>42.10</td>\n",
       "    </tr>\n",
       "    <tr>\n",
       "      <th>1</th>\n",
       "      <td>1102</td>\n",
       "      <td>亞泥</td>\n",
       "      <td>6.26</td>\n",
       "      <td>107</td>\n",
       "      <td>9.86</td>\n",
       "      <td>1.05</td>\n",
       "      <td>108/3</td>\n",
       "      <td>44.85</td>\n",
       "    </tr>\n",
       "    <tr>\n",
       "      <th>2</th>\n",
       "      <td>1103</td>\n",
       "      <td>嘉泥</td>\n",
       "      <td>5.00</td>\n",
       "      <td>107</td>\n",
       "      <td>9.90</td>\n",
       "      <td>0.59</td>\n",
       "      <td>108/3</td>\n",
       "      <td>20.40</td>\n",
       "    </tr>\n",
       "    <tr>\n",
       "      <th>3</th>\n",
       "      <td>1104</td>\n",
       "      <td>環泥</td>\n",
       "      <td>5.29</td>\n",
       "      <td>107</td>\n",
       "      <td>12.35</td>\n",
       "      <td>0.70</td>\n",
       "      <td>108/3</td>\n",
       "      <td>18.75</td>\n",
       "    </tr>\n",
       "    <tr>\n",
       "      <th>4</th>\n",
       "      <td>1108</td>\n",
       "      <td>幸福</td>\n",
       "      <td>0.00</td>\n",
       "      <td>107</td>\n",
       "      <td>-</td>\n",
       "      <td>0.74</td>\n",
       "      <td>108/3</td>\n",
       "      <td>7.72</td>\n",
       "    </tr>\n",
       "  </tbody>\n",
       "</table>\n",
       "</div>"
      ],
      "text/plain": [
       "   證券代號 證券名稱  殖利率(%)  股利年度    本益比  股價淨值比  財報年/季    收盤價\n",
       "0  1101   台泥    9.62   107  10.27   1.28  108/3  42.10\n",
       "1  1102   亞泥    6.26   107   9.86   1.05  108/3  44.85\n",
       "2  1103   嘉泥    5.00   107   9.90   0.59  108/3  20.40\n",
       "3  1104   環泥    5.29   107  12.35   0.70  108/3  18.75\n",
       "4  1108   幸福    0.00   107      -   0.74  108/3   7.72"
      ]
     },
     "execution_count": 18,
     "metadata": {},
     "output_type": "execute_result"
    }
   ],
   "source": [
    "df_merge.head()"
   ]
  },
  {
   "cell_type": "code",
   "execution_count": 44,
   "metadata": {},
   "outputs": [],
   "source": [
    "df_merge=df_merge[df_merge.本益比!='-']"
   ]
  },
  {
   "cell_type": "code",
   "execution_count": 54,
   "metadata": {},
   "outputs": [],
   "source": [
    "df_merge=df_merge[df_merge[\"殖利率(%)\"]!=0]"
   ]
  },
  {
   "cell_type": "code",
   "execution_count": 56,
   "metadata": {},
   "outputs": [
    {
     "name": "stderr",
     "output_type": "stream",
     "text": [
      "/Users/amy/anaconda3/lib/python3.7/site-packages/ipykernel_launcher.py:1: SettingWithCopyWarning: \n",
      "A value is trying to be set on a copy of a slice from a DataFrame.\n",
      "Try using .loc[row_indexer,col_indexer] = value instead\n",
      "\n",
      "See the caveats in the documentation: http://pandas.pydata.org/pandas-docs/stable/user_guide/indexing.html#returning-a-view-versus-a-copy\n",
      "  \"\"\"Entry point for launching an IPython kernel.\n"
     ]
    }
   ],
   "source": [
    "df_merge[\"本益比\"]=df_merge[\"本益比\"].astype(float)"
   ]
  },
  {
   "cell_type": "code",
   "execution_count": 68,
   "metadata": {},
   "outputs": [],
   "source": [
    "x=df_merge[[\"殖利率(%)\",\"本益比\"]].values\n",
    "y=df_merge.收盤價.values\n",
    "y=y.reshape(685,1)"
   ]
  },
  {
   "cell_type": "code",
   "execution_count": 69,
   "metadata": {},
   "outputs": [],
   "source": [
    "from sklearn.model_selection import train_test_split"
   ]
  },
  {
   "cell_type": "code",
   "execution_count": 70,
   "metadata": {},
   "outputs": [],
   "source": [
    "x_train,x_test,y_train,t_test=train_test_split(x,y,test_size=0.2,random_state=0)"
   ]
  },
  {
   "cell_type": "code",
   "execution_count": 71,
   "metadata": {},
   "outputs": [],
   "source": [
    "from sklearn.svm import SVC\n",
    "clf=SVC(gamma=\"auto\")"
   ]
  },
  {
   "cell_type": "code",
   "execution_count": 72,
   "metadata": {},
   "outputs": [
    {
     "name": "stderr",
     "output_type": "stream",
     "text": [
      "/Users/amy/anaconda3/lib/python3.7/site-packages/sklearn/utils/validation.py:724: DataConversionWarning: A column-vector y was passed when a 1d array was expected. Please change the shape of y to (n_samples, ), for example using ravel().\n",
      "  y = column_or_1d(y, warn=True)\n"
     ]
    },
    {
     "data": {
      "text/plain": [
       "SVC(C=1.0, cache_size=200, class_weight=None, coef0=0.0,\n",
       "    decision_function_shape='ovr', degree=3, gamma='auto', kernel='rbf',\n",
       "    max_iter=-1, probability=False, random_state=None, shrinking=True,\n",
       "    tol=0.001, verbose=False)"
      ]
     },
     "execution_count": 72,
     "metadata": {},
     "output_type": "execute_result"
    }
   ],
   "source": [
    "clf.fit(x_train,y_train)"
   ]
  },
  {
   "cell_type": "code",
   "execution_count": null,
   "metadata": {},
   "outputs": [],
   "source": []
  }
 ],
 "metadata": {
  "kernelspec": {
   "display_name": "Python 3",
   "language": "python",
   "name": "python3"
  },
  "language_info": {
   "codemirror_mode": {
    "name": "ipython",
    "version": 3
   },
   "file_extension": ".py",
   "mimetype": "text/x-python",
   "name": "python",
   "nbconvert_exporter": "python",
   "pygments_lexer": "ipython3",
   "version": "3.7.3"
  }
 },
 "nbformat": 4,
 "nbformat_minor": 2
}
