{
 "cells": [
  {
   "cell_type": "code",
   "execution_count": 5,
   "metadata": {},
   "outputs": [],
   "source": [
    "%matplotlib inline\n",
    "import numpy as np\n",
    "import pandas as pd\n",
    "import matplotlib.pyplot as plt"
   ]
  },
  {
   "cell_type": "markdown",
   "metadata": {},
   "source": [
    "## Simple Loan \n",
    "$PV=\\dfrac{CF}{(1+i)^n}$ "
   ]
  },
  {
   "cell_type": "code",
   "execution_count": 26,
   "metadata": {},
   "outputs": [
    {
     "name": "stdout",
     "output_type": "stream",
     "text": [
      "你想借多少錢？100\n",
      "你想借幾年？1\n",
      "請輸入年利率：5%\n",
      "\u001b[31m1年後要還105.0元\u001b[0m\n"
     ]
    }
   ],
   "source": [
    "pv=float(input(\"你想借多少錢？\"))\n",
    "n=int(input(\"你想借幾年？\"))\n",
    "i=input(\"請輸入年利率：\")\n",
    "if '%'in i :\n",
    "    i=i.rstrip(\"%\")\n",
    "    i=float(i)/100\n",
    "else:\n",
    "    i=float(i)\n",
    "cf=pv*((1+i)**n)\n",
    "print(f\"\\033[31m{n}年後要還{cf:.1f}元\\033[0m\")"
   ]
  },
  {
   "cell_type": "markdown",
   "metadata": {},
   "source": [
    "## fixed-payment loan\n",
    "$LV=\\dfrac{FP}{(1+i)}+\\dfrac{FP}{(1+i)^2}+\\dfrac{FP}{(1+i)^3}+...+\\dfrac{FP}{(1+i)^n}$ "
   ]
  },
  {
   "cell_type": "code",
   "execution_count": 21,
   "metadata": {},
   "outputs": [
    {
     "name": "stdout",
     "output_type": "stream",
     "text": [
      "你想借多少錢？100\n",
      "你想借幾年？3\n",
      "請輸入年利率：9%\n",
      "\u001b[31m每年平均要還39.51元\u001b[0m\n"
     ]
    }
   ],
   "source": [
    "Lv=float(input(\"你想借多少錢？\"))\n",
    "n=int(input(\"你想借幾年？\"))\n",
    "i=input(\"請輸入年利率：\")\n",
    "summ=0\n",
    "if '%'in i :\n",
    "    i=i.rstrip(\"%\")\n",
    "    i=float(i)/100\n",
    "else:\n",
    "    i=float(i)\n",
    "for k in range(n):\n",
    "    summ=summ+(1+i)**k\n",
    "total=(1+i)**n*Lv\n",
    "peryear=total/summ\n",
    "print(f\"\\033[31m每年平均大約要還{peryear:.2f}元\\033[0m\")"
   ]
  },
  {
   "cell_type": "markdown",
   "metadata": {},
   "source": [
    "## coupon bond\n",
    "$P=\\dfrac{C}{(1+i)}+\\dfrac{C}{(1+i)^2}+\\dfrac{C}{(1+i)^3}+...+\\dfrac{C}{(1+i)^n}+\\dfrac{F}{(1+i)^n}$ "
   ]
  },
  {
   "cell_type": "code",
   "execution_count": null,
   "metadata": {},
   "outputs": [],
   "source": []
  }
 ],
 "metadata": {
  "kernelspec": {
   "display_name": "Python 3",
   "language": "python",
   "name": "python3"
  },
  "language_info": {
   "codemirror_mode": {
    "name": "ipython",
    "version": 3
   },
   "file_extension": ".py",
   "mimetype": "text/x-python",
   "name": "python",
   "nbconvert_exporter": "python",
   "pygments_lexer": "ipython3",
   "version": "3.7.3"
  }
 },
 "nbformat": 4,
 "nbformat_minor": 2
}
