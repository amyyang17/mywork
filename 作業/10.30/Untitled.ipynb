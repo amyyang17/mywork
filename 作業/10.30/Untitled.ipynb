{
 "cells": [
  {
   "cell_type": "code",
   "execution_count": 2,
   "metadata": {},
   "outputs": [],
   "source": [
    "%matplotlib inline\n",
    "import numpy as np\n",
    "import pandas as pd\n",
    "import matplotlib.pyplot as plt"
   ]
  },
  {
   "cell_type": "code",
   "execution_count": 11,
   "metadata": {},
   "outputs": [],
   "source": [
    "df=pd.read_csv(\"http://www.twse.com.tw/exchangeReport/STOCK_DAY_ALL?response=open_data\")"
   ]
  },
  {
   "cell_type": "code",
   "execution_count": 12,
   "metadata": {},
   "outputs": [
    {
     "data": {
      "text/html": [
       "<div>\n",
       "<style scoped>\n",
       "    .dataframe tbody tr th:only-of-type {\n",
       "        vertical-align: middle;\n",
       "    }\n",
       "\n",
       "    .dataframe tbody tr th {\n",
       "        vertical-align: top;\n",
       "    }\n",
       "\n",
       "    .dataframe thead th {\n",
       "        text-align: right;\n",
       "    }\n",
       "</style>\n",
       "<table border=\"1\" class=\"dataframe\">\n",
       "  <thead>\n",
       "    <tr style=\"text-align: right;\">\n",
       "      <th></th>\n",
       "      <th>證券代號</th>\n",
       "      <th>證券名稱</th>\n",
       "      <th>成交股數</th>\n",
       "      <th>成交金額</th>\n",
       "      <th>開盤價</th>\n",
       "      <th>最高價</th>\n",
       "      <th>最低價</th>\n",
       "      <th>收盤價</th>\n",
       "      <th>漲跌價差</th>\n",
       "      <th>成交筆數</th>\n",
       "    </tr>\n",
       "  </thead>\n",
       "  <tbody>\n",
       "    <tr>\n",
       "      <th>0</th>\n",
       "      <td>0050</td>\n",
       "      <td>元大台灣50</td>\n",
       "      <td>2,806,778</td>\n",
       "      <td>252,465,747</td>\n",
       "      <td>90.00</td>\n",
       "      <td>90.20</td>\n",
       "      <td>89.75</td>\n",
       "      <td>90.10</td>\n",
       "      <td>0.00</td>\n",
       "      <td>1,648</td>\n",
       "    </tr>\n",
       "    <tr>\n",
       "      <th>1</th>\n",
       "      <td>0051</td>\n",
       "      <td>元大中型100</td>\n",
       "      <td>3,086</td>\n",
       "      <td>108,820</td>\n",
       "      <td>35.26</td>\n",
       "      <td>35.26</td>\n",
       "      <td>35.26</td>\n",
       "      <td>35.26</td>\n",
       "      <td>0.00</td>\n",
       "      <td>4</td>\n",
       "    </tr>\n",
       "    <tr>\n",
       "      <th>2</th>\n",
       "      <td>0052</td>\n",
       "      <td>富邦科技</td>\n",
       "      <td>113,821</td>\n",
       "      <td>7,415,136</td>\n",
       "      <td>65.35</td>\n",
       "      <td>65.35</td>\n",
       "      <td>65.05</td>\n",
       "      <td>65.15</td>\n",
       "      <td>-0.30</td>\n",
       "      <td>25</td>\n",
       "    </tr>\n",
       "    <tr>\n",
       "      <th>3</th>\n",
       "      <td>0053</td>\n",
       "      <td>元大電子</td>\n",
       "      <td>28,198</td>\n",
       "      <td>1,124,621</td>\n",
       "      <td>39.89</td>\n",
       "      <td>39.90</td>\n",
       "      <td>39.86</td>\n",
       "      <td>39.86</td>\n",
       "      <td>-0.17</td>\n",
       "      <td>9</td>\n",
       "    </tr>\n",
       "    <tr>\n",
       "      <th>4</th>\n",
       "      <td>0054</td>\n",
       "      <td>元大台商50</td>\n",
       "      <td>2,128</td>\n",
       "      <td>51,510</td>\n",
       "      <td>24.14</td>\n",
       "      <td>24.26</td>\n",
       "      <td>24.14</td>\n",
       "      <td>24.26</td>\n",
       "      <td>+0.19</td>\n",
       "      <td>4</td>\n",
       "    </tr>\n",
       "  </tbody>\n",
       "</table>\n",
       "</div>"
      ],
      "text/plain": [
       "   證券代號     證券名稱       成交股數         成交金額    開盤價    最高價    最低價    收盤價   漲跌價差  \\\n",
       "0  0050   元大台灣50  2,806,778  252,465,747  90.00  90.20  89.75  90.10   0.00   \n",
       "1  0051  元大中型100      3,086      108,820  35.26  35.26  35.26  35.26   0.00   \n",
       "2  0052     富邦科技    113,821    7,415,136  65.35  65.35  65.05  65.15  -0.30   \n",
       "3  0053     元大電子     28,198    1,124,621  39.89  39.90  39.86  39.86  -0.17   \n",
       "4  0054   元大台商50      2,128       51,510  24.14  24.26  24.14  24.26  +0.19   \n",
       "\n",
       "    成交筆數  \n",
       "0  1,648  \n",
       "1      4  \n",
       "2     25  \n",
       "3      9  \n",
       "4      4  "
      ]
     },
     "execution_count": 12,
     "metadata": {},
     "output_type": "execute_result"
    }
   ],
   "source": [
    "df.head()"
   ]
  },
  {
   "cell_type": "code",
   "execution_count": null,
   "metadata": {},
   "outputs": [],
   "source": []
  },
  {
   "cell_type": "code",
   "execution_count": null,
   "metadata": {},
   "outputs": [],
   "source": []
  },
  {
   "cell_type": "code",
   "execution_count": null,
   "metadata": {},
   "outputs": [],
   "source": []
  },
  {
   "cell_type": "code",
   "execution_count": null,
   "metadata": {},
   "outputs": [],
   "source": []
  }
 ],
 "metadata": {
  "kernelspec": {
   "display_name": "Python 3",
   "language": "python",
   "name": "python3"
  },
  "language_info": {
   "codemirror_mode": {
    "name": "ipython",
    "version": 3
   },
   "file_extension": ".py",
   "mimetype": "text/x-python",
   "name": "python",
   "nbconvert_exporter": "python",
   "pygments_lexer": "ipython3",
   "version": "3.7.3"
  }
 },
 "nbformat": 4,
 "nbformat_minor": 2
}
