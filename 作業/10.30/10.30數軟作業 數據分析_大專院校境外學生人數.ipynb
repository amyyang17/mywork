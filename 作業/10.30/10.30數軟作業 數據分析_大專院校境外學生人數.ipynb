{
 "cells": [
  {
   "cell_type": "code",
   "execution_count": 2,
   "metadata": {},
   "outputs": [],
   "source": [
    "%matplotlib inline\n",
    "import numpy as np\n",
    "import pandas as pd\n",
    "import matplotlib.pyplot as plt"
   ]
  },
  {
   "cell_type": "markdown",
   "metadata": {},
   "source": [
    "## 讀進境外學生資料"
   ]
  },
  {
   "cell_type": "code",
   "execution_count": 3,
   "metadata": {},
   "outputs": [],
   "source": [
    "df=pd.read_csv(\"http://stats.moe.gov.tw/files/detail/107/107_ab106_S.csv\")"
   ]
  },
  {
   "cell_type": "code",
   "execution_count": 4,
   "metadata": {},
   "outputs": [
    {
     "data": {
      "text/html": [
       "<div>\n",
       "<style scoped>\n",
       "    .dataframe tbody tr th:only-of-type {\n",
       "        vertical-align: middle;\n",
       "    }\n",
       "\n",
       "    .dataframe tbody tr th {\n",
       "        vertical-align: top;\n",
       "    }\n",
       "\n",
       "    .dataframe thead th {\n",
       "        text-align: right;\n",
       "    }\n",
       "</style>\n",
       "<table border=\"1\" class=\"dataframe\">\n",
       "  <thead>\n",
       "    <tr style=\"text-align: right;\">\n",
       "      <th></th>\n",
       "      <th>大專校院</th>\n",
       "      <th>學校代碼</th>\n",
       "      <th>學校名稱</th>\n",
       "      <th>學位生_正式修讀學位外國生</th>\n",
       "      <th>學位生_僑生(含港澳)</th>\n",
       "      <th>學位生_正式修讀學位陸生</th>\n",
       "      <th>非學位生_外國交換生</th>\n",
       "      <th>非學位生_外國短期研習及個人選讀</th>\n",
       "      <th>非學位生_大專附設華語文中心學生</th>\n",
       "      <th>非學位生_大陸研修生</th>\n",
       "      <th>非學位生_海青班</th>\n",
       "      <th>境外專班</th>\n",
       "    </tr>\n",
       "  </thead>\n",
       "  <tbody>\n",
       "    <tr>\n",
       "      <th>0</th>\n",
       "      <td>大專校院</td>\n",
       "      <td>0001</td>\n",
       "      <td>國立政治大學</td>\n",
       "      <td>511</td>\n",
       "      <td>653</td>\n",
       "      <td>366</td>\n",
       "      <td>523</td>\n",
       "      <td>58</td>\n",
       "      <td>861</td>\n",
       "      <td>0</td>\n",
       "      <td>0</td>\n",
       "      <td>0</td>\n",
       "    </tr>\n",
       "    <tr>\n",
       "      <th>1</th>\n",
       "      <td>大專校院</td>\n",
       "      <td>0002</td>\n",
       "      <td>國立清華大學</td>\n",
       "      <td>564</td>\n",
       "      <td>497</td>\n",
       "      <td>279</td>\n",
       "      <td>62</td>\n",
       "      <td>147</td>\n",
       "      <td>425</td>\n",
       "      <td>0</td>\n",
       "      <td>0</td>\n",
       "      <td>0</td>\n",
       "    </tr>\n",
       "    <tr>\n",
       "      <th>2</th>\n",
       "      <td>大專校院</td>\n",
       "      <td>0003</td>\n",
       "      <td>國立臺灣大學</td>\n",
       "      <td>883</td>\n",
       "      <td>1395</td>\n",
       "      <td>474</td>\n",
       "      <td>723</td>\n",
       "      <td>516</td>\n",
       "      <td>953</td>\n",
       "      <td>0</td>\n",
       "      <td>0</td>\n",
       "      <td>0</td>\n",
       "    </tr>\n",
       "    <tr>\n",
       "      <th>3</th>\n",
       "      <td>大專校院</td>\n",
       "      <td>0004</td>\n",
       "      <td>國立臺灣師範大學</td>\n",
       "      <td>595</td>\n",
       "      <td>703</td>\n",
       "      <td>147</td>\n",
       "      <td>124</td>\n",
       "      <td>88</td>\n",
       "      <td>4567</td>\n",
       "      <td>0</td>\n",
       "      <td>0</td>\n",
       "      <td>9</td>\n",
       "    </tr>\n",
       "    <tr>\n",
       "      <th>4</th>\n",
       "      <td>大專校院</td>\n",
       "      <td>0004A</td>\n",
       "      <td>國立臺灣師大僑生先修部</td>\n",
       "      <td>0</td>\n",
       "      <td>497</td>\n",
       "      <td>0</td>\n",
       "      <td>0</td>\n",
       "      <td>0</td>\n",
       "      <td>0</td>\n",
       "      <td>0</td>\n",
       "      <td>0</td>\n",
       "      <td>0</td>\n",
       "    </tr>\n",
       "  </tbody>\n",
       "</table>\n",
       "</div>"
      ],
      "text/plain": [
       "   大專校院   學校代碼         學校名稱  學位生_正式修讀學位外國生  學位生_僑生(含港澳)  學位生_正式修讀學位陸生  \\\n",
       "0  大專校院   0001       國立政治大學            511          653           366   \n",
       "1  大專校院   0002       國立清華大學            564          497           279   \n",
       "2  大專校院   0003       國立臺灣大學            883         1395           474   \n",
       "3  大專校院   0004     國立臺灣師範大學            595          703           147   \n",
       "4  大專校院  0004A  國立臺灣師大僑生先修部              0          497             0   \n",
       "\n",
       "   非學位生_外國交換生  非學位生_外國短期研習及個人選讀  非學位生_大專附設華語文中心學生  非學位生_大陸研修生  非學位生_海青班  境外專班  \n",
       "0         523                58               861           0         0     0  \n",
       "1          62               147               425           0         0     0  \n",
       "2         723               516               953           0         0     0  \n",
       "3         124                88              4567           0         0     9  \n",
       "4           0                 0                 0           0         0     0  "
      ]
     },
     "execution_count": 4,
     "metadata": {},
     "output_type": "execute_result"
    }
   ],
   "source": [
    "df.head()"
   ]
  },
  {
   "cell_type": "markdown",
   "metadata": {},
   "source": [
    "# 取出境外學生的學位生"
   ]
  },
  {
   "cell_type": "code",
   "execution_count": 55,
   "metadata": {},
   "outputs": [],
   "source": [
    "dfn=df[[\"學校名稱\",\"學位生_正式修讀學位外國生\",\"學位生_僑生(含港澳)\",\"學位生_正式修讀學位陸生\"]]"
   ]
  },
  {
   "cell_type": "code",
   "execution_count": 61,
   "metadata": {},
   "outputs": [
    {
     "name": "stderr",
     "output_type": "stream",
     "text": [
      "/Users/amy/anaconda3/lib/python3.7/site-packages/ipykernel_launcher.py:1: SettingWithCopyWarning: \n",
      "A value is trying to be set on a copy of a slice from a DataFrame.\n",
      "Try using .loc[row_indexer,col_indexer] = value instead\n",
      "\n",
      "See the caveats in the documentation: http://pandas.pydata.org/pandas-docs/stable/indexing.html#indexing-view-versus-copy\n",
      "  \"\"\"Entry point for launching an IPython kernel.\n"
     ]
    }
   ],
   "source": [
    "dfn[\"總數\"]=dfn.loc[:,\"學位生_正式修讀學位外國生\":\"學位生_正式修讀學位陸生\"].sum(axis=1)"
   ]
  },
  {
   "cell_type": "code",
   "execution_count": 65,
   "metadata": {},
   "outputs": [],
   "source": [
    "dfn_sort=dfn.sort_values(\"總數\",ascending=False)"
   ]
  },
  {
   "cell_type": "code",
   "execution_count": 66,
   "metadata": {},
   "outputs": [],
   "source": [
    "dfn_sort.index=range(1,156)"
   ]
  },
  {
   "cell_type": "markdown",
   "metadata": {},
   "source": [
    "## 最多境外學位生的五間學校"
   ]
  },
  {
   "cell_type": "code",
   "execution_count": 71,
   "metadata": {},
   "outputs": [
    {
     "data": {
      "text/html": [
       "<div>\n",
       "<style scoped>\n",
       "    .dataframe tbody tr th:only-of-type {\n",
       "        vertical-align: middle;\n",
       "    }\n",
       "\n",
       "    .dataframe tbody tr th {\n",
       "        vertical-align: top;\n",
       "    }\n",
       "\n",
       "    .dataframe thead th {\n",
       "        text-align: right;\n",
       "    }\n",
       "</style>\n",
       "<table border=\"1\" class=\"dataframe\">\n",
       "  <thead>\n",
       "    <tr style=\"text-align: right;\">\n",
       "      <th></th>\n",
       "      <th>學校名稱</th>\n",
       "      <th>學位生_正式修讀學位外國生</th>\n",
       "      <th>學位生_僑生(含港澳)</th>\n",
       "      <th>學位生_正式修讀學位陸生</th>\n",
       "      <th>總數</th>\n",
       "    </tr>\n",
       "  </thead>\n",
       "  <tbody>\n",
       "    <tr>\n",
       "      <th>1</th>\n",
       "      <td>國立臺灣大學</td>\n",
       "      <td>883</td>\n",
       "      <td>1395</td>\n",
       "      <td>474</td>\n",
       "      <td>2752</td>\n",
       "    </tr>\n",
       "    <tr>\n",
       "      <th>2</th>\n",
       "      <td>銘傳大學</td>\n",
       "      <td>779</td>\n",
       "      <td>763</td>\n",
       "      <td>469</td>\n",
       "      <td>2011</td>\n",
       "    </tr>\n",
       "    <tr>\n",
       "      <th>3</th>\n",
       "      <td>淡江大學</td>\n",
       "      <td>590</td>\n",
       "      <td>896</td>\n",
       "      <td>468</td>\n",
       "      <td>1954</td>\n",
       "    </tr>\n",
       "    <tr>\n",
       "      <th>4</th>\n",
       "      <td>國立成功大學</td>\n",
       "      <td>876</td>\n",
       "      <td>695</td>\n",
       "      <td>188</td>\n",
       "      <td>1759</td>\n",
       "    </tr>\n",
       "    <tr>\n",
       "      <th>5</th>\n",
       "      <td>逢甲大學</td>\n",
       "      <td>569</td>\n",
       "      <td>629</td>\n",
       "      <td>372</td>\n",
       "      <td>1570</td>\n",
       "    </tr>\n",
       "  </tbody>\n",
       "</table>\n",
       "</div>"
      ],
      "text/plain": [
       "     學校名稱  學位生_正式修讀學位外國生  學位生_僑生(含港澳)  學位生_正式修讀學位陸生    總數\n",
       "1  國立臺灣大學            883         1395           474  2752\n",
       "2    銘傳大學            779          763           469  2011\n",
       "3    淡江大學            590          896           468  1954\n",
       "4  國立成功大學            876          695           188  1759\n",
       "5    逢甲大學            569          629           372  1570"
      ]
     },
     "execution_count": 71,
     "metadata": {},
     "output_type": "execute_result"
    }
   ],
   "source": [
    "dfn_sort[dfn_sort.總數>0].head()"
   ]
  },
  {
   "cell_type": "markdown",
   "metadata": {},
   "source": [
    "### 政大的境外學位生總數排名第6"
   ]
  },
  {
   "cell_type": "code",
   "execution_count": 73,
   "metadata": {},
   "outputs": [
    {
     "data": {
      "text/html": [
       "<div>\n",
       "<style scoped>\n",
       "    .dataframe tbody tr th:only-of-type {\n",
       "        vertical-align: middle;\n",
       "    }\n",
       "\n",
       "    .dataframe tbody tr th {\n",
       "        vertical-align: top;\n",
       "    }\n",
       "\n",
       "    .dataframe thead th {\n",
       "        text-align: right;\n",
       "    }\n",
       "</style>\n",
       "<table border=\"1\" class=\"dataframe\">\n",
       "  <thead>\n",
       "    <tr style=\"text-align: right;\">\n",
       "      <th></th>\n",
       "      <th>學校名稱</th>\n",
       "      <th>學位生_正式修讀學位外國生</th>\n",
       "      <th>學位生_僑生(含港澳)</th>\n",
       "      <th>學位生_正式修讀學位陸生</th>\n",
       "      <th>總數</th>\n",
       "    </tr>\n",
       "  </thead>\n",
       "  <tbody>\n",
       "    <tr>\n",
       "      <th>6</th>\n",
       "      <td>國立政治大學</td>\n",
       "      <td>511</td>\n",
       "      <td>653</td>\n",
       "      <td>366</td>\n",
       "      <td>1530</td>\n",
       "    </tr>\n",
       "  </tbody>\n",
       "</table>\n",
       "</div>"
      ],
      "text/plain": [
       "     學校名稱  學位生_正式修讀學位外國生  學位生_僑生(含港澳)  學位生_正式修讀學位陸生    總數\n",
       "6  國立政治大學            511          653           366  1530"
      ]
     },
     "execution_count": 73,
     "metadata": {},
     "output_type": "execute_result"
    }
   ],
   "source": [
    "dfn_sort[dfn_sort.學校名稱==\"國立政治大學\"]"
   ]
  },
  {
   "cell_type": "markdown",
   "metadata": {},
   "source": [
    "# 挑選出非學位之境外學生"
   ]
  },
  {
   "cell_type": "code",
   "execution_count": 13,
   "metadata": {},
   "outputs": [],
   "source": [
    "df_non=df[[\"學校名稱\",\"非學位生_外國交換生\",\"非學位生_外國短期研習及個人選讀\",\"非學位生_大專附設華語文中心學生\",\"非學位生_大陸研修生\",\"非學位生_海青班\"]]"
   ]
  },
  {
   "cell_type": "code",
   "execution_count": 14,
   "metadata": {},
   "outputs": [
    {
     "name": "stderr",
     "output_type": "stream",
     "text": [
      "/Users/amy/anaconda3/lib/python3.7/site-packages/ipykernel_launcher.py:1: SettingWithCopyWarning: \n",
      "A value is trying to be set on a copy of a slice from a DataFrame.\n",
      "Try using .loc[row_indexer,col_indexer] = value instead\n",
      "\n",
      "See the caveats in the documentation: http://pandas.pydata.org/pandas-docs/stable/indexing.html#indexing-view-versus-copy\n",
      "  \"\"\"Entry point for launching an IPython kernel.\n"
     ]
    }
   ],
   "source": [
    "df_non[\"總數\"]=df_non.loc[:,\"非學位生_外國交換生\":\"非學位生_海青班\"].sum(axis=1)"
   ]
  },
  {
   "cell_type": "code",
   "execution_count": 15,
   "metadata": {},
   "outputs": [],
   "source": [
    "df_non_sort=df_non.sort_values(by=\"總數\",ascending=False)"
   ]
  },
  {
   "cell_type": "code",
   "execution_count": 23,
   "metadata": {},
   "outputs": [],
   "source": [
    "df_non_sort.drop(1,inplace=True)"
   ]
  },
  {
   "cell_type": "code",
   "execution_count": 24,
   "metadata": {},
   "outputs": [],
   "source": [
    "df_non_sort.index=range(1,155)"
   ]
  },
  {
   "cell_type": "markdown",
   "metadata": {},
   "source": [
    "# 非學位生之境外學生最多的學校前五名"
   ]
  },
  {
   "cell_type": "code",
   "execution_count": 26,
   "metadata": {},
   "outputs": [
    {
     "data": {
      "text/html": [
       "<div>\n",
       "<style scoped>\n",
       "    .dataframe tbody tr th:only-of-type {\n",
       "        vertical-align: middle;\n",
       "    }\n",
       "\n",
       "    .dataframe tbody tr th {\n",
       "        vertical-align: top;\n",
       "    }\n",
       "\n",
       "    .dataframe thead th {\n",
       "        text-align: right;\n",
       "    }\n",
       "</style>\n",
       "<table border=\"1\" class=\"dataframe\">\n",
       "  <thead>\n",
       "    <tr style=\"text-align: right;\">\n",
       "      <th></th>\n",
       "      <th>學校名稱</th>\n",
       "      <th>非學位生_外國交換生</th>\n",
       "      <th>非學位生_外國短期研習及個人選讀</th>\n",
       "      <th>非學位生_大專附設華語文中心學生</th>\n",
       "      <th>非學位生_大陸研修生</th>\n",
       "      <th>非學位生_海青班</th>\n",
       "      <th>總數</th>\n",
       "    </tr>\n",
       "  </thead>\n",
       "  <tbody>\n",
       "    <tr>\n",
       "      <th>1</th>\n",
       "      <td>國立臺灣師範大學</td>\n",
       "      <td>124</td>\n",
       "      <td>88</td>\n",
       "      <td>4567</td>\n",
       "      <td>0</td>\n",
       "      <td>0</td>\n",
       "      <td>4779</td>\n",
       "    </tr>\n",
       "    <tr>\n",
       "      <th>2</th>\n",
       "      <td>淡江大學</td>\n",
       "      <td>113</td>\n",
       "      <td>0</td>\n",
       "      <td>2183</td>\n",
       "      <td>0</td>\n",
       "      <td>0</td>\n",
       "      <td>2296</td>\n",
       "    </tr>\n",
       "    <tr>\n",
       "      <th>3</th>\n",
       "      <td>銘傳大學</td>\n",
       "      <td>129</td>\n",
       "      <td>574</td>\n",
       "      <td>1053</td>\n",
       "      <td>0</td>\n",
       "      <td>527</td>\n",
       "      <td>2283</td>\n",
       "    </tr>\n",
       "    <tr>\n",
       "      <th>4</th>\n",
       "      <td>國立臺灣大學</td>\n",
       "      <td>723</td>\n",
       "      <td>516</td>\n",
       "      <td>953</td>\n",
       "      <td>0</td>\n",
       "      <td>0</td>\n",
       "      <td>2192</td>\n",
       "    </tr>\n",
       "    <tr>\n",
       "      <th>5</th>\n",
       "      <td>中國文化大學</td>\n",
       "      <td>128</td>\n",
       "      <td>38</td>\n",
       "      <td>1542</td>\n",
       "      <td>0</td>\n",
       "      <td>235</td>\n",
       "      <td>1943</td>\n",
       "    </tr>\n",
       "  </tbody>\n",
       "</table>\n",
       "</div>"
      ],
      "text/plain": [
       "       學校名稱  非學位生_外國交換生  非學位生_外國短期研習及個人選讀  非學位生_大專附設華語文中心學生  非學位生_大陸研修生  \\\n",
       "1  國立臺灣師範大學         124                88              4567           0   \n",
       "2      淡江大學         113                 0              2183           0   \n",
       "3      銘傳大學         129               574              1053           0   \n",
       "4    國立臺灣大學         723               516               953           0   \n",
       "5    中國文化大學         128                38              1542           0   \n",
       "\n",
       "   非學位生_海青班    總數  \n",
       "1         0  4779  \n",
       "2         0  2296  \n",
       "3       527  2283  \n",
       "4         0  2192  \n",
       "5       235  1943  "
      ]
     },
     "execution_count": 26,
     "metadata": {},
     "output_type": "execute_result"
    }
   ],
   "source": [
    "df_non_sort.head()"
   ]
  },
  {
   "cell_type": "markdown",
   "metadata": {},
   "source": [
    "### 政大在非學位生之境外學生中總數排名第8"
   ]
  },
  {
   "cell_type": "code",
   "execution_count": 25,
   "metadata": {},
   "outputs": [
    {
     "data": {
      "text/html": [
       "<div>\n",
       "<style scoped>\n",
       "    .dataframe tbody tr th:only-of-type {\n",
       "        vertical-align: middle;\n",
       "    }\n",
       "\n",
       "    .dataframe tbody tr th {\n",
       "        vertical-align: top;\n",
       "    }\n",
       "\n",
       "    .dataframe thead th {\n",
       "        text-align: right;\n",
       "    }\n",
       "</style>\n",
       "<table border=\"1\" class=\"dataframe\">\n",
       "  <thead>\n",
       "    <tr style=\"text-align: right;\">\n",
       "      <th></th>\n",
       "      <th>學校名稱</th>\n",
       "      <th>非學位生_外國交換生</th>\n",
       "      <th>非學位生_外國短期研習及個人選讀</th>\n",
       "      <th>非學位生_大專附設華語文中心學生</th>\n",
       "      <th>非學位生_大陸研修生</th>\n",
       "      <th>非學位生_海青班</th>\n",
       "      <th>總數</th>\n",
       "    </tr>\n",
       "  </thead>\n",
       "  <tbody>\n",
       "    <tr>\n",
       "      <th>8</th>\n",
       "      <td>國立政治大學</td>\n",
       "      <td>523</td>\n",
       "      <td>58</td>\n",
       "      <td>861</td>\n",
       "      <td>0</td>\n",
       "      <td>0</td>\n",
       "      <td>1442</td>\n",
       "    </tr>\n",
       "  </tbody>\n",
       "</table>\n",
       "</div>"
      ],
      "text/plain": [
       "     學校名稱  非學位生_外國交換生  非學位生_外國短期研習及個人選讀  非學位生_大專附設華語文中心學生  非學位生_大陸研修生  \\\n",
       "8  國立政治大學         523                58               861           0   \n",
       "\n",
       "   非學位生_海青班    總數  \n",
       "8         0  1442  "
      ]
     },
     "execution_count": 25,
     "metadata": {},
     "output_type": "execute_result"
    }
   ],
   "source": [
    "df_non_sort[df_non_sort.學校名稱==\"國立政治大學\"]"
   ]
  },
  {
   "cell_type": "markdown",
   "metadata": {},
   "source": [
    "# 境外專班最多的學校前五名"
   ]
  },
  {
   "cell_type": "code",
   "execution_count": 33,
   "metadata": {},
   "outputs": [
    {
     "data": {
      "text/html": [
       "<div>\n",
       "<style scoped>\n",
       "    .dataframe tbody tr th:only-of-type {\n",
       "        vertical-align: middle;\n",
       "    }\n",
       "\n",
       "    .dataframe tbody tr th {\n",
       "        vertical-align: top;\n",
       "    }\n",
       "\n",
       "    .dataframe thead th {\n",
       "        text-align: right;\n",
       "    }\n",
       "</style>\n",
       "<table border=\"1\" class=\"dataframe\">\n",
       "  <thead>\n",
       "    <tr style=\"text-align: right;\">\n",
       "      <th></th>\n",
       "      <th>大專校院</th>\n",
       "      <th>學校代碼</th>\n",
       "      <th>學校名稱</th>\n",
       "      <th>學位生_正式修讀學位外國生</th>\n",
       "      <th>學位生_僑生(含港澳)</th>\n",
       "      <th>學位生_正式修讀學位陸生</th>\n",
       "      <th>非學位生_外國交換生</th>\n",
       "      <th>非學位生_外國短期研習及個人選讀</th>\n",
       "      <th>非學位生_大專附設華語文中心學生</th>\n",
       "      <th>非學位生_大陸研修生</th>\n",
       "      <th>非學位生_海青班</th>\n",
       "      <th>境外專班</th>\n",
       "    </tr>\n",
       "  </thead>\n",
       "  <tbody>\n",
       "    <tr>\n",
       "      <th>109</th>\n",
       "      <td>大專校院</td>\n",
       "      <td>1064</td>\n",
       "      <td>美和科技大學</td>\n",
       "      <td>35</td>\n",
       "      <td>5</td>\n",
       "      <td>0</td>\n",
       "      <td>0</td>\n",
       "      <td>0</td>\n",
       "      <td>0</td>\n",
       "      <td>0</td>\n",
       "      <td>0</td>\n",
       "      <td>338</td>\n",
       "    </tr>\n",
       "    <tr>\n",
       "      <th>66</th>\n",
       "      <td>大專校院</td>\n",
       "      <td>1020</td>\n",
       "      <td>南華大學</td>\n",
       "      <td>507</td>\n",
       "      <td>51</td>\n",
       "      <td>6</td>\n",
       "      <td>1</td>\n",
       "      <td>352</td>\n",
       "      <td>480</td>\n",
       "      <td>0</td>\n",
       "      <td>0</td>\n",
       "      <td>169</td>\n",
       "    </tr>\n",
       "    <tr>\n",
       "      <th>76</th>\n",
       "      <td>大專校院</td>\n",
       "      <td>1030</td>\n",
       "      <td>龍華科技大學</td>\n",
       "      <td>549</td>\n",
       "      <td>167</td>\n",
       "      <td>44</td>\n",
       "      <td>33</td>\n",
       "      <td>0</td>\n",
       "      <td>10</td>\n",
       "      <td>0</td>\n",
       "      <td>51</td>\n",
       "      <td>63</td>\n",
       "    </tr>\n",
       "    <tr>\n",
       "      <th>72</th>\n",
       "      <td>大專校院</td>\n",
       "      <td>1026</td>\n",
       "      <td>樹德科技大學</td>\n",
       "      <td>216</td>\n",
       "      <td>246</td>\n",
       "      <td>139</td>\n",
       "      <td>8</td>\n",
       "      <td>24</td>\n",
       "      <td>343</td>\n",
       "      <td>0</td>\n",
       "      <td>0</td>\n",
       "      <td>60</td>\n",
       "    </tr>\n",
       "    <tr>\n",
       "      <th>77</th>\n",
       "      <td>大專校院</td>\n",
       "      <td>1031</td>\n",
       "      <td>輔英科技大學</td>\n",
       "      <td>19</td>\n",
       "      <td>91</td>\n",
       "      <td>0</td>\n",
       "      <td>0</td>\n",
       "      <td>130</td>\n",
       "      <td>0</td>\n",
       "      <td>0</td>\n",
       "      <td>0</td>\n",
       "      <td>55</td>\n",
       "    </tr>\n",
       "  </tbody>\n",
       "</table>\n",
       "</div>"
      ],
      "text/plain": [
       "     大專校院  學校代碼    學校名稱  學位生_正式修讀學位外國生  學位生_僑生(含港澳)  學位生_正式修讀學位陸生  非學位生_外國交換生  \\\n",
       "109  大專校院  1064  美和科技大學             35            5             0           0   \n",
       "66   大專校院  1020    南華大學            507           51             6           1   \n",
       "76   大專校院  1030  龍華科技大學            549          167            44          33   \n",
       "72   大專校院  1026  樹德科技大學            216          246           139           8   \n",
       "77   大專校院  1031  輔英科技大學             19           91             0           0   \n",
       "\n",
       "     非學位生_外國短期研習及個人選讀  非學位生_大專附設華語文中心學生  非學位生_大陸研修生  非學位生_海青班  境外專班  \n",
       "109                 0                 0           0         0   338  \n",
       "66                352               480           0         0   169  \n",
       "76                  0                10           0        51    63  \n",
       "72                 24               343           0         0    60  \n",
       "77                130                 0           0         0    55  "
      ]
     },
     "execution_count": 33,
     "metadata": {},
     "output_type": "execute_result"
    }
   ],
   "source": [
    "df[df.境外專班>0].sort_values(by=\"境外專班\",ascending=False).head()"
   ]
  }
 ],
 "metadata": {
  "kernelspec": {
   "display_name": "Python 3",
   "language": "python",
   "name": "python3"
  },
  "language_info": {
   "codemirror_mode": {
    "name": "ipython",
    "version": 3
   },
   "file_extension": ".py",
   "mimetype": "text/x-python",
   "name": "python",
   "nbconvert_exporter": "python",
   "pygments_lexer": "ipython3",
   "version": "3.7.3"
  }
 },
 "nbformat": 4,
 "nbformat_minor": 2
}
