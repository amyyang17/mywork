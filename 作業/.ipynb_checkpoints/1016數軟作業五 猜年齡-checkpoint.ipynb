{
 "cells": [
  {
   "cell_type": "code",
   "execution_count": 1,
   "metadata": {},
   "outputs": [],
   "source": [
    "%matplotlib inline\n",
    "import numpy as np\n",
    "import pandas as pd\n",
    "import matplotlib.pyplot as plt"
   ]
  },
  {
   "cell_type": "code",
   "execution_count": 5,
   "metadata": {},
   "outputs": [
    {
     "name": "stdout",
     "output_type": "stream",
     "text": [
      "請從1~10選擇一個數字並輸入3\n",
      "今年過生日了嗎？\n",
      "1 過完了\n",
      "2還沒\n",
      "1\n",
      "請輸入出生年份2000\n",
      "你一開始選擇3，今年19歲\n"
     ]
    }
   ],
   "source": [
    "begin=int(input(\"請從1~10選擇一個數字並輸入\"))\n",
    "end=(((begin*2)+5)*50)\n",
    "birth=input(\"今年過生日了嗎？\\n1 過完了\\n2還沒\\n\")\n",
    "year=int(input(\"請輸入出生年份\"))\n",
    "if birth ==\"1\":\n",
    "    ans=end+1769-year\n",
    "    age=ans%100\n",
    "    choose=ans//100\n",
    "else:\n",
    "    ans=end+1768-year\n",
    "    age=ans%100\n",
    "    choose=ans//100\n",
    "print(f\"你一開始選擇{choose}，今年{age}歲\")"
   ]
  },
  {
   "cell_type": "code",
   "execution_count": null,
   "metadata": {},
   "outputs": [],
   "source": []
  },
  {
   "cell_type": "code",
   "execution_count": null,
   "metadata": {},
   "outputs": [],
   "source": []
  }
 ],
 "metadata": {
  "kernelspec": {
   "display_name": "Python 3",
   "language": "python",
   "name": "python3"
  },
  "language_info": {
   "codemirror_mode": {
    "name": "ipython",
    "version": 3
   },
   "file_extension": ".py",
   "mimetype": "text/x-python",
   "name": "python",
   "nbconvert_exporter": "python",
   "pygments_lexer": "ipython3",
   "version": "3.7.3"
  }
 },
 "nbformat": 4,
 "nbformat_minor": 2
}
