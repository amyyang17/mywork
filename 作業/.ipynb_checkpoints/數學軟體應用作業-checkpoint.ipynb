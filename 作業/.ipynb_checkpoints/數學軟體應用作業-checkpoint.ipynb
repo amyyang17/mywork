{
 "cells": [
  {
   "cell_type": "code",
   "execution_count": 71,
   "metadata": {},
   "outputs": [],
   "source": [
    "%matplotlib inline\n",
    "import numpy as np\n",
    "import matplotlib.pyplot as plt"
   ]
  },
  {
   "cell_type": "code",
   "execution_count": 72,
   "metadata": {},
   "outputs": [],
   "source": [
    "x=np.linspace(-10,10,100)"
   ]
  },
  {
   "cell_type": "code",
   "execution_count": 73,
   "metadata": {},
   "outputs": [],
   "source": [
    "y=(x+(1/x))"
   ]
  },
  {
   "cell_type": "code",
   "execution_count": 76,
   "metadata": {},
   "outputs": [],
   "source": [
    "y[y>10]=np.inf"
   ]
  },
  {
   "cell_type": "code",
   "execution_count": 77,
   "metadata": {},
   "outputs": [
    {
     "data": {
      "text/plain": [
       "[<matplotlib.lines.Line2D at 0x1216a2518>]"
      ]
     },
     "execution_count": 77,
     "metadata": {},
     "output_type": "execute_result"
    },
    {
     "data": {
      "image/png": "[encoded data removed]",
      "text/plain": [
       "<Figure size 432x288 with 1 Axes>"
      ]
     },
     "metadata": {
      "needs_background": "light"
     },
     "output_type": "display_data"
    }
   ],
   "source": [
    "plt.plot(x,y)"
   ]
  },
  {
   "cell_type": "code",
   "execution_count": null,
   "metadata": {},
   "outputs": [],
   "source": []
  },
  {
   "cell_type": "code",
   "execution_count": 11,
   "metadata": {},
   "outputs": [
    {
     "name": "stdout",
     "output_type": "stream",
     "text": [
      "您好，我是拍拍機器人，如果不想跟我聊天的話就說bye吧\n",
      "請問你的名字是什麼呢？john\n",
      "今天有發生什麼事嗎？>>我今天好開心\n",
      "john我也真替你感到開心\n",
      "今天有發生什麼事嗎？>>不過後來發生一些事我好難過\n",
      "john別難過，讓我來安慰你吧\n",
      "今天有發生什麼事嗎？>>沒了\n",
      "john分享點有趣的事吧！\n",
      "今天有發生什麼事嗎？>>bye\n",
      "john分享點有趣的事吧！\n",
      "bye\n"
     ]
    }
   ],
   "source": [
    "print(\"您好，我是拍拍機器人，如果不想跟我聊天的話就說bye吧\")\n",
    "name=input((\"請問你的名字是什麼呢？\"))\n",
    "message=\"\"\n",
    "while message!=\"bye\":\n",
    "    message=input(\"今天有發生什麼事嗎？>>\")\n",
    "    if \"難過\" in message :\n",
    "        print(\"%s別難過，讓我來安慰你吧\"%(name))\n",
    "    elif \"開心\" in message:\n",
    "        print(\"%s我也真替你感到開心\"%(name))\n",
    "    else:\n",
    "        print(\"%s分享點有趣的事吧！\"%(name))\n",
    "else:\n",
    "    print(\"bye\")"
   ]
  },
  {
   "cell_type": "code",
   "execution_count": 10,
   "metadata": {},
   "outputs": [],
   "source": [
    "%matplotlib inline\n",
    "import random\n",
    "import numpy as np\n",
    "import pandas as pd\n",
    "import matplotlib.pyplot as plt\n",
    "from ipywidgets import interact_manual\n",
    "from ipywidgets import interact\n",
    "from IPython.display import display, HTML, Markdown, Image, YouTubeVideo\n"
   ]
  },
  {
   "cell_type": "code",
   "execution_count": 38,
   "metadata": {},
   "outputs": [],
   "source": [
    "def drink(x):\n",
    "    if x==\"五十嵐\":\n",
    "        display(Image(url=\"https://twcoupon.com/images/menu/p_50lan_20140730.jpg\"))\n",
    "        \n",
    "    elif x==\"茶湯會\":\n",
    "        display(Image(url=\"https://twcoupon.com/images/menu/p_teapatea_2017_5_n.jpg\"))\n",
    "            \n",
    "    elif x==\"迷客夏\":\n",
    "        display(Image(url=\"https://1.bp.blogspot.com/-xyirWSHtfNw/XO0llijhfSI/AAAAAAAARnM/fN3Q9N5XIjcl-tSx61ABZau4pRxicUwAQCLcBGAs/w1200-h630-p-k-no-nu/%25E3%2580%2590%25E8%25BF%25B7%25E5%25AE%25A2%25E5%25A4%258F%25E3%2580%2591%25E8%258F%259C%25E5%2596%25AE%25E5%2583%25B9%25E7%259B%25AE%25E8%25A1%25A8.jpg\"))\n",
    "    \n",
    "    elif x==\"清心福全\":\n",
    "        display(Image(url=\"https://www.chingshin.tw/upload/price/1907171531260000001.jpg\"))\n",
    "        \n",
    "    elif x==\"CoCo\":\n",
    "        display(Image(url=\"https://twcoupon.com/images/menu/p_COCO.jpg\"))\n",
    "       \n",
    "    "
   ]
  },
  {
   "cell_type": "code",
   "execution_count": 39,
   "metadata": {},
   "outputs": [
    {
     "data": {
      "application/vnd.jupyter.widget-view+json": {
       "model_id": "5c14500c87094006bd6f7c420828c5be",
       "version_major": 2,
       "version_minor": 0
      },
      "text/plain": [
       "interactive(children=(Dropdown(description='x', options=('五十嵐', '茶湯會', '迷客夏', 'CoCo', '清心福全'), value='五十嵐'), B…"
      ]
     },
     "metadata": {},
     "output_type": "display_data"
    },
    {
     "data": {
      "text/plain": [
       "<function __main__.drink(x)>"
      ]
     },
     "execution_count": 39,
     "metadata": {},
     "output_type": "execute_result"
    }
   ],
   "source": [
    "interact_manual(drink,x=[\"五十嵐\",\"茶湯會\",\"迷客夏\",\"CoCo\",\"清心福全\"])"
   ]
  },
  {
   "cell_type": "markdown",
   "metadata": {},
   "source": [
    "# 簡易樂透隨機選號"
   ]
  },
  {
   "cell_type": "code",
   "execution_count": 18,
   "metadata": {},
   "outputs": [],
   "source": [
    "import random\n",
    "from ipywidgets import interact_manual\n",
    "from ipywidgets import interact"
   ]
  },
  {
   "cell_type": "code",
   "execution_count": 19,
   "metadata": {},
   "outputs": [],
   "source": [
    "def 大樂透():\n",
    "    total=range(1,50)\n",
    "    choice=random.sample(total,7)\n",
    "    choice.sort()\n",
    "    print(choice)"
   ]
  },
  {
   "cell_type": "code",
   "execution_count": 39,
   "metadata": {},
   "outputs": [],
   "source": [
    "def 威力彩():\n",
    "    one=range(1,39)\n",
    "    two=range(1,9)\n",
    "    choice1=random.sample(one,6)\n",
    "    choice1.sort()\n",
    "    choice2=random.sample(two,1)\n",
    "    print(\"第一區為%s，第二區為%s\"%(choice1,choice2))"
   ]
  },
  {
   "cell_type": "code",
   "execution_count": 40,
   "metadata": {},
   "outputs": [],
   "source": [
    "def 今彩539():\n",
    "    total=range(1,40)\n",
    "    choice=random.sample(total,5)\n",
    "    choice.sort()\n",
    "    print(choice)"
   ]
  },
  {
   "cell_type": "code",
   "execution_count": 41,
   "metadata": {},
   "outputs": [],
   "source": [
    "def 雙贏彩():\n",
    "    total=range(1,25)\n",
    "    choice=random.sample(total,12)\n",
    "    choice.sort()\n",
    "    print(choice)"
   ]
  },
  {
   "cell_type": "code",
   "execution_count": 42,
   "metadata": {},
   "outputs": [],
   "source": [
    "def choose(play):\n",
    "    if play==\"大樂透\":\n",
    "        interact(大樂透)\n",
    "    elif play==\"威力彩\":\n",
    "        interact(威力彩)\n",
    "    elif play==\"今彩539\":\n",
    "        interact(今彩539)\n",
    "    elif play==\"雙贏彩\":\n",
    "        interact(雙贏彩)"
   ]
  },
  {
   "cell_type": "code",
   "execution_count": 43,
   "metadata": {},
   "outputs": [
    {
     "data": {
      "application/vnd.jupyter.widget-view+json": {
       "model_id": "3557c0f9d2f241eca9d7f5a4c00bcecc",
       "version_major": 2,
       "version_minor": 0
      },
      "text/plain": [
       "interactive(children=(Dropdown(description='play', options=('大樂透', '威力彩', '雙贏彩', '今彩539'), value='大樂透'), Butto…"
      ]
     },
     "metadata": {},
     "output_type": "display_data"
    },
    {
     "data": {
      "text/plain": [
       "<function __main__.choose(play)>"
      ]
     },
     "execution_count": 43,
     "metadata": {},
     "output_type": "execute_result"
    }
   ],
   "source": [
    "interact_manual(choose,play=[\"大樂透\",\"威力彩\",\"雙贏彩\",\"今彩539\"])\n"
   ]
  },
  {
   "cell_type": "code",
   "execution_count": null,
   "metadata": {},
   "outputs": [],
   "source": []
  }
 ],
 "metadata": {
  "kernelspec": {
   "display_name": "Python 3",
   "language": "python",
   "name": "python3"
  },
  "language_info": {
   "codemirror_mode": {
    "name": "ipython",
    "version": 3
   },
   "file_extension": ".py",
   "mimetype": "text/x-python",
   "name": "python",
   "nbconvert_exporter": "python",
   "pygments_lexer": "ipython3",
   "version": "3.7.3"
  }
 },
 "nbformat": 4,
 "nbformat_minor": 2
}
