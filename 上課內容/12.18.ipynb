{
 "cells": [
  {
   "cell_type": "code",
   "execution_count": 3,
   "metadata": {},
   "outputs": [],
   "source": [
    "!mkdir eggs #創建新的資料夾"
   ]
  },
  {
   "cell_type": "code",
   "execution_count": 4,
   "metadata": {},
   "outputs": [
    {
     "name": "stdout",
     "output_type": "stream",
     "text": [
      "1.ipynb                         7-10.23(array sympy).ipynb\r\n",
      "10-11.20-機器學習SVM.ipynb      8-10.30(pandas).ipynb\r\n",
      "11-11.27 機器學習.ipynb         9-11.13-skilearn-linear.ipynb\r\n",
      "12-Tkinter.ipynb                \u001b[34meggs\u001b[m\u001b[m/\r\n",
      "12.18.ipynb                     mydic.csv\r\n",
      "13-爬蟲_HTML+CSS.ipynb          mydic.pickle\r\n",
      "2.ipynb                         test.txt\r\n",
      "3.ipynb                         ４.ipynb\r\n",
      "5.ipynb                         骰子1.png\r\n",
      "6-10.16.ipynb\r\n"
     ]
    }
   ],
   "source": [
    "%ls"
   ]
  },
  {
   "cell_type": "code",
   "execution_count": 5,
   "metadata": {},
   "outputs": [
    {
     "name": "stdout",
     "output_type": "stream",
     "text": [
      "/Users/amy/Desktop/python/mywork/上課內容/eggs\n"
     ]
    }
   ],
   "source": [
    "%cd eggs"
   ]
  },
  {
   "cell_type": "markdown",
   "metadata": {},
   "source": [
    "電腦隨機從1到100印出一個數字"
   ]
  },
  {
   "cell_type": "markdown",
   "metadata": {},
   "source": [
    "# np 不包含最後一個"
   ]
  },
  {
   "cell_type": "code",
   "execution_count": 10,
   "metadata": {},
   "outputs": [],
   "source": [
    "import numpy as np"
   ]
  },
  {
   "cell_type": "code",
   "execution_count": 16,
   "metadata": {},
   "outputs": [
    {
     "name": "stdout",
     "output_type": "stream",
     "text": [
      "你今天抽到的幸運數字是90\n"
     ]
    }
   ],
   "source": [
    "print(f\"你今天抽到的幸運數字是{np.random.randint(1,101)}\")"
   ]
  },
  {
   "cell_type": "markdown",
   "metadata": {},
   "source": [
    "# random.randint有包含最後一個"
   ]
  },
  {
   "cell_type": "code",
   "execution_count": 23,
   "metadata": {},
   "outputs": [],
   "source": [
    "from random import randint"
   ]
  },
  {
   "cell_type": "code",
   "execution_count": 26,
   "metadata": {},
   "outputs": [
    {
     "name": "stdout",
     "output_type": "stream",
     "text": [
      "97,22,54,100,35,60,56,8,63,13,83,62,24,79,73,15,94,74,43,34,91,54,92,28,16,91,70,21,59,46,90,54,48,30,86,74,60,70,64,100,43,11,41,87,37,85,83,100,91,74,52,42,67,55,93,26,86,9,46,38,16,81,55,11,29,84,86,83,5,23,64,77,96,79,13,82,22,51,17,28,16,67,50,13,56,9,12,96,78,34,63,11,50,21,54,9,65,21,38,"
     ]
    }
   ],
   "source": [
    "for i in range(1,100):\n",
    "    print(randint(1,100),end=\",\")"
   ]
  },
  {
   "cell_type": "markdown",
   "metadata": {},
   "source": [
    "# 存成一個檔案"
   ]
  },
  {
   "cell_type": "code",
   "execution_count": 27,
   "metadata": {},
   "outputs": [
    {
     "name": "stdout",
     "output_type": "stream",
     "text": [
      "The following commands were written to file `spam.py`:\n",
      "import numpy as np\n",
      "print(f\"你今天抽到的幸運數字是{np.random.randint(1,101)}\")\n"
     ]
    }
   ],
   "source": [
    "%save spam.py 10 16"
   ]
  },
  {
   "cell_type": "code",
   "execution_count": null,
   "metadata": {},
   "outputs": [],
   "source": []
  },
  {
   "cell_type": "markdown",
   "metadata": {},
   "source": [
    "# 存成網頁檔"
   ]
  },
  {
   "cell_type": "code",
   "execution_count": 1,
   "metadata": {},
   "outputs": [
    {
     "name": "stdout",
     "output_type": "stream",
     "text": [
      "Overwriting web01.py\n"
     ]
    }
   ],
   "source": [
    "%%writefile web01.py\n",
    "import pandas as pd\n",
    "df = pd.DataFrame({\"A\":[12,13,45],\"B\":[15,87,53]})\n",
    "\n",
    "df\n"
   ]
  },
  {
   "cell_type": "code",
   "execution_count": null,
   "metadata": {},
   "outputs": [
    {
     "name": "stdout",
     "output_type": "stream",
     "text": [
      "\u001b[0m\r\n",
      "\u001b[34m\u001b[1m  You can now view your Streamlit app in your browser.\u001b[0m\r\n",
      "\u001b[0m\r\n",
      "\u001b[34m  Local URL: \u001b[0m\u001b[1mhttp://localhost:8501\u001b[0m\r\n",
      "\u001b[34m  Network URL: \u001b[0m\u001b[1mhttp://10.232.79.168:8501\u001b[0m\r\n",
      "\u001b[0m\r\n"
     ]
    }
   ],
   "source": [
    "!streamlit run web01.py"
   ]
  },
  {
   "cell_type": "code",
   "execution_count": null,
   "metadata": {},
   "outputs": [],
   "source": []
  }
 ],
 "metadata": {
  "kernelspec": {
   "display_name": "Python 3",
   "language": "python",
   "name": "python3"
  },
  "language_info": {
   "codemirror_mode": {
    "name": "ipython",
    "version": 3
   },
   "file_extension": ".py",
   "mimetype": "text/x-python",
   "name": "python",
   "nbconvert_exporter": "python",
   "pygments_lexer": "ipython3",
   "version": "3.7.3"
  }
 },
 "nbformat": 4,
 "nbformat_minor": 2
}
