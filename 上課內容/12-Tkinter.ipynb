{
 "cells": [
  {
   "cell_type": "code",
   "execution_count": 2,
   "metadata": {},
   "outputs": [],
   "source": [
    "%matplotlib inline \n",
    "import tkinter as tk"
   ]
  },
  {
   "cell_type": "code",
   "execution_count": null,
   "metadata": {},
   "outputs": [],
   "source": [
    "def "
   ]
  },
  {
   "cell_type": "code",
   "execution_count": 3,
   "metadata": {},
   "outputs": [],
   "source": [
    "def show():\n",
    "    label[\"text\"]=\"yoooo\"\n",
    "\n",
    "window=tk.Tk()\n",
    "window.geometry(\"300x300\")\n",
    "label=tk.Label(window)\n",
    "btn=tk.Button(window,text=\"hiiii\",command=show)\n",
    "label.pack()\n",
    "btn.pack()"
   ]
  },
  {
   "cell_type": "code",
   "execution_count": 4,
   "metadata": {},
   "outputs": [],
   "source": [
    "window.mainloop()"
   ]
  },
  {
   "cell_type": "code",
   "execution_count": null,
   "metadata": {},
   "outputs": [],
   "source": [
    "def printselection():\n",
    "    return cities()"
   ]
  },
  {
   "cell_type": "code",
   "execution_count": 17,
   "metadata": {},
   "outputs": [
    {
     "data": {
      "text/plain": [
       "''"
      ]
     },
     "execution_count": 17,
     "metadata": {},
     "output_type": "execute_result"
    }
   ],
   "source": []
  },
  {
   "cell_type": "code",
   "execution_count": 48,
   "metadata": {},
   "outputs": [],
   "source": [
    "w=tk.Tk()\n",
    "w.title(\"tr1\")\n",
    "def bt():\n",
    "    return(cities[var.get()])\n",
    "    \n",
    "def quit():\n",
    "    w.destroy()\n",
    "\n",
    "cities={0:\"東京\",1:\"紐約\",2:\"台灣\"}\n",
    "label=tk.Label(w,text=\"choose one\",width=30).pack()\n",
    "var=tk.IntVar()\n",
    "var.set(0)\n",
    "\n",
    "for val,city in cities.items():\n",
    "    choice=tk.Radiobutton(w,text=city,variable=var,value=val).pack()\n",
    "tk.Button(w,text=\"go\",command=bt).pack()\n",
    "tk.Button(w,text=\"exit\",command=quit).pack()"
   ]
  },
  {
   "cell_type": "code",
   "execution_count": 49,
   "metadata": {},
   "outputs": [],
   "source": [
    "w.mainloop()"
   ]
  },
  {
   "cell_type": "code",
   "execution_count": null,
   "metadata": {},
   "outputs": [],
   "source": []
  },
  {
   "cell_type": "code",
   "execution_count": null,
   "metadata": {},
   "outputs": [],
   "source": []
  }
 ],
 "metadata": {
  "kernelspec": {
   "display_name": "Python 3",
   "language": "python",
   "name": "python3"
  },
  "language_info": {
   "codemirror_mode": {
    "name": "ipython",
    "version": 3
   },
   "file_extension": ".py",
   "mimetype": "text/x-python",
   "name": "python",
   "nbconvert_exporter": "python",
   "pygments_lexer": "ipython3",
   "version": "3.7.3"
  }
 },
 "nbformat": 4,
 "nbformat_minor": 2
}
